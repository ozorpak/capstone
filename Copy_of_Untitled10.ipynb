{
  "nbformat": 4,
  "nbformat_minor": 0,
  "metadata": {
    "colab": {
      "provenance": [],
      "authorship_tag": "ABX9TyNkclU85aRFS9uUl0vOnnq6",
      "include_colab_link": true
    },
    "kernelspec": {
      "name": "python3",
      "display_name": "Python 3"
    },
    "language_info": {
      "name": "python"
    }
  },
  "cells": [
    {
      "cell_type": "markdown",
      "metadata": {
        "id": "view-in-github",
        "colab_type": "text"
      },
      "source": [
        "<a href=\"https://colab.research.google.com/github/ozorpak/capstone/blob/main/Copy_of_Untitled10.ipynb\" target=\"_parent\"><img src=\"https://colab.research.google.com/assets/colab-badge.svg\" alt=\"Open In Colab\"/></a>"
      ]
    },
    {
      "cell_type": "code",
      "execution_count": null,
      "metadata": {
        "colab": {
          "base_uri": "https://localhost:8080/"
        },
        "id": "54UsqyEeeiOy",
        "outputId": "2ef3bee4-d0b7-452c-9303-ec788d1b42dc"
      },
      "outputs": [
        {
          "output_type": "stream",
          "name": "stdout",
          "text": [
            "Collecting pyspark\n",
            "  Downloading pyspark-3.5.1.tar.gz (317.0 MB)\n",
            "\u001b[2K     \u001b[90m━━━━━━━━━━━━━━━━━━━━━━━━━━━━━━━━━━━━━━━━\u001b[0m \u001b[32m317.0/317.0 MB\u001b[0m \u001b[31m2.3 MB/s\u001b[0m eta \u001b[36m0:00:00\u001b[0m\n",
            "\u001b[?25h  Preparing metadata (setup.py) ... \u001b[?25l\u001b[?25hdone\n",
            "Requirement already satisfied: py4j==0.10.9.7 in /usr/local/lib/python3.10/dist-packages (from pyspark) (0.10.9.7)\n",
            "Building wheels for collected packages: pyspark\n",
            "  Building wheel for pyspark (setup.py) ... \u001b[?25l\u001b[?25hdone\n",
            "  Created wheel for pyspark: filename=pyspark-3.5.1-py2.py3-none-any.whl size=317488493 sha256=0b5fc8e6ff6f6ff8453594fa09fec79613c221ba80e13439e7530168ca8d81ad\n",
            "  Stored in directory: /root/.cache/pip/wheels/80/1d/60/2c256ed38dddce2fdd93be545214a63e02fbd8d74fb0b7f3a6\n",
            "Successfully built pyspark\n",
            "Installing collected packages: pyspark\n",
            "Successfully installed pyspark-3.5.1\n"
          ]
        }
      ],
      "source": [
        "!pip install pyspark"
      ]
    },
    {
      "cell_type": "code",
      "source": [
        "import pyspark"
      ],
      "metadata": {
        "id": "mbpjse0TemR6"
      },
      "execution_count": null,
      "outputs": []
    },
    {
      "cell_type": "code",
      "source": [
        "from pyspark.sql import SparkSession"
      ],
      "metadata": {
        "id": "woD4XkMHerKI"
      },
      "execution_count": null,
      "outputs": []
    },
    {
      "cell_type": "code",
      "source": [
        "spark=SparkSession.builder.appName('practice').getOrCreate()"
      ],
      "metadata": {
        "id": "C7aYN-zZfO9X"
      },
      "execution_count": null,
      "outputs": []
    },
    {
      "cell_type": "code",
      "source": [
        "spark"
      ],
      "metadata": {
        "colab": {
          "base_uri": "https://localhost:8080/",
          "height": 219
        },
        "id": "ceDKB5o-fWFg",
        "outputId": "1264b095-38f7-48ef-c591-004b1496f85f"
      },
      "execution_count": null,
      "outputs": [
        {
          "output_type": "execute_result",
          "data": {
            "text/plain": [
              "<pyspark.sql.session.SparkSession at 0x792a2499dc90>"
            ],
            "text/html": [
              "\n",
              "            <div>\n",
              "                <p><b>SparkSession - in-memory</b></p>\n",
              "                \n",
              "        <div>\n",
              "            <p><b>SparkContext</b></p>\n",
              "\n",
              "            <p><a href=\"http://570d48ab17fb:4040\">Spark UI</a></p>\n",
              "\n",
              "            <dl>\n",
              "              <dt>Version</dt>\n",
              "                <dd><code>v3.5.1</code></dd>\n",
              "              <dt>Master</dt>\n",
              "                <dd><code>local[*]</code></dd>\n",
              "              <dt>AppName</dt>\n",
              "                <dd><code>practice</code></dd>\n",
              "            </dl>\n",
              "        </div>\n",
              "        \n",
              "            </div>\n",
              "        "
            ]
          },
          "metadata": {},
          "execution_count": 6
        }
      ]
    },
    {
      "cell_type": "code",
      "source": [
        "!pip install google-api-python-client"
      ],
      "metadata": {
        "colab": {
          "base_uri": "https://localhost:8080/"
        },
        "id": "mN-VUi0kgSY8",
        "outputId": "a032eb4b-0c81-4f37-a9c0-c83d07f99219"
      },
      "execution_count": null,
      "outputs": [
        {
          "output_type": "stream",
          "name": "stdout",
          "text": [
            "Requirement already satisfied: google-api-python-client in /usr/local/lib/python3.10/dist-packages (2.84.0)\n",
            "Requirement already satisfied: httplib2<1dev,>=0.15.0 in /usr/local/lib/python3.10/dist-packages (from google-api-python-client) (0.22.0)\n",
            "Requirement already satisfied: google-auth<3.0.0dev,>=1.19.0 in /usr/local/lib/python3.10/dist-packages (from google-api-python-client) (2.27.0)\n",
            "Requirement already satisfied: google-auth-httplib2>=0.1.0 in /usr/local/lib/python3.10/dist-packages (from google-api-python-client) (0.1.1)\n",
            "Requirement already satisfied: google-api-core!=2.0.*,!=2.1.*,!=2.2.*,!=2.3.0,<3.0.0dev,>=1.31.5 in /usr/local/lib/python3.10/dist-packages (from google-api-python-client) (2.11.1)\n",
            "Requirement already satisfied: uritemplate<5,>=3.0.1 in /usr/local/lib/python3.10/dist-packages (from google-api-python-client) (4.1.1)\n",
            "Requirement already satisfied: googleapis-common-protos<2.0.dev0,>=1.56.2 in /usr/local/lib/python3.10/dist-packages (from google-api-core!=2.0.*,!=2.1.*,!=2.2.*,!=2.3.0,<3.0.0dev,>=1.31.5->google-api-python-client) (1.62.0)\n",
            "Requirement already satisfied: protobuf!=3.20.0,!=3.20.1,!=4.21.0,!=4.21.1,!=4.21.2,!=4.21.3,!=4.21.4,!=4.21.5,<5.0.0.dev0,>=3.19.5 in /usr/local/lib/python3.10/dist-packages (from google-api-core!=2.0.*,!=2.1.*,!=2.2.*,!=2.3.0,<3.0.0dev,>=1.31.5->google-api-python-client) (3.20.3)\n",
            "Requirement already satisfied: requests<3.0.0.dev0,>=2.18.0 in /usr/local/lib/python3.10/dist-packages (from google-api-core!=2.0.*,!=2.1.*,!=2.2.*,!=2.3.0,<3.0.0dev,>=1.31.5->google-api-python-client) (2.31.0)\n",
            "Requirement already satisfied: cachetools<6.0,>=2.0.0 in /usr/local/lib/python3.10/dist-packages (from google-auth<3.0.0dev,>=1.19.0->google-api-python-client) (5.3.3)\n",
            "Requirement already satisfied: pyasn1-modules>=0.2.1 in /usr/local/lib/python3.10/dist-packages (from google-auth<3.0.0dev,>=1.19.0->google-api-python-client) (0.3.0)\n",
            "Requirement already satisfied: rsa<5,>=3.1.4 in /usr/local/lib/python3.10/dist-packages (from google-auth<3.0.0dev,>=1.19.0->google-api-python-client) (4.9)\n",
            "Requirement already satisfied: pyparsing!=3.0.0,!=3.0.1,!=3.0.2,!=3.0.3,<4,>=2.4.2 in /usr/local/lib/python3.10/dist-packages (from httplib2<1dev,>=0.15.0->google-api-python-client) (3.1.2)\n",
            "Requirement already satisfied: pyasn1<0.6.0,>=0.4.6 in /usr/local/lib/python3.10/dist-packages (from pyasn1-modules>=0.2.1->google-auth<3.0.0dev,>=1.19.0->google-api-python-client) (0.5.1)\n",
            "Requirement already satisfied: charset-normalizer<4,>=2 in /usr/local/lib/python3.10/dist-packages (from requests<3.0.0.dev0,>=2.18.0->google-api-core!=2.0.*,!=2.1.*,!=2.2.*,!=2.3.0,<3.0.0dev,>=1.31.5->google-api-python-client) (3.3.2)\n",
            "Requirement already satisfied: idna<4,>=2.5 in /usr/local/lib/python3.10/dist-packages (from requests<3.0.0.dev0,>=2.18.0->google-api-core!=2.0.*,!=2.1.*,!=2.2.*,!=2.3.0,<3.0.0dev,>=1.31.5->google-api-python-client) (3.6)\n",
            "Requirement already satisfied: urllib3<3,>=1.21.1 in /usr/local/lib/python3.10/dist-packages (from requests<3.0.0.dev0,>=2.18.0->google-api-core!=2.0.*,!=2.1.*,!=2.2.*,!=2.3.0,<3.0.0dev,>=1.31.5->google-api-python-client) (2.0.7)\n",
            "Requirement already satisfied: certifi>=2017.4.17 in /usr/local/lib/python3.10/dist-packages (from requests<3.0.0.dev0,>=2.18.0->google-api-core!=2.0.*,!=2.1.*,!=2.2.*,!=2.3.0,<3.0.0dev,>=1.31.5->google-api-python-client) (2024.2.2)\n"
          ]
        }
      ]
    },
    {
      "cell_type": "code",
      "source": [
        "import pyspark\n",
        "from pyspark.sql import SparkSession\n",
        "from googleapiclient.discovery import build\n",
        "from googleapiclient.errors import HttpError"
      ],
      "metadata": {
        "id": "cxmFsZM6gWNo"
      },
      "execution_count": null,
      "outputs": []
    },
    {
      "cell_type": "code",
      "source": [
        "# # Authenticate with Google Drive using OAuth2\n",
        "# # Follow the instructions in the link below to obtain credentials:\n",
        "# # https://developers.google.com/identity/protocols/application-default-credentials#callingruby\n",
        "# credentials, _ = google.auth.default()\n",
        "# drive_service = build('drive', 'v3', credentials=credentials)"
      ],
      "metadata": {
        "id": "CDdJSRjzgT_W"
      },
      "execution_count": null,
      "outputs": []
    },
    {
      "cell_type": "code",
      "source": [
        "df_pyspark=spark.read.csv('hour (2).csv')"
      ],
      "metadata": {
        "id": "3be71VFxfZEf"
      },
      "execution_count": null,
      "outputs": []
    },
    {
      "cell_type": "code",
      "source": [
        "df_pyspark"
      ],
      "metadata": {
        "colab": {
          "base_uri": "https://localhost:8080/"
        },
        "id": "3JNWZgv5fmR3",
        "outputId": "b8d25365-8c12-4f26-d89f-006072f4b396"
      },
      "execution_count": null,
      "outputs": [
        {
          "output_type": "execute_result",
          "data": {
            "text/plain": [
              "DataFrame[_c0: string, _c1: string, _c2: string, _c3: string, _c4: string, _c5: string, _c6: string, _c7: string, _c8: string, _c9: string, _c10: string, _c11: string, _c12: string, _c13: string, _c14: string, _c15: string, _c16: string]"
            ]
          },
          "metadata": {},
          "execution_count": 8
        }
      ]
    },
    {
      "cell_type": "code",
      "source": [
        "df_pyspark.show()"
      ],
      "metadata": {
        "colab": {
          "base_uri": "https://localhost:8080/"
        },
        "id": "hGMh9LKAg0yA",
        "outputId": "61a5280d-6530-4803-8eb2-201138f0a1fd"
      },
      "execution_count": null,
      "outputs": [
        {
          "output_type": "stream",
          "name": "stdout",
          "text": [
            "+-------+----------+------+---+----+---+-------+-------+----------+----------+----+------+----+---------+------+----------+----+\n",
            "|    _c0|       _c1|   _c2|_c3| _c4|_c5|    _c6|    _c7|       _c8|       _c9|_c10|  _c11|_c12|     _c13|  _c14|      _c15|_c16|\n",
            "+-------+----------+------+---+----+---+-------+-------+----------+----------+----+------+----+---------+------+----------+----+\n",
            "|instant|    dteday|season| yr|mnth| hr|holiday|weekday|workingday|weathersit|temp| atemp| hum|windspeed|casual|registered| cnt|\n",
            "|      1|2011-01-01|     1|  0|   1|  0|      0|      6|         0|         1|0.24|0.2879|0.81|        0|     3|        13|  16|\n",
            "|      2|2011-01-01|     1|  0|   1|  1|      0|      6|         0|         1|0.22|0.2727| 0.8|        0|     8|        32|  40|\n",
            "|      3|2011-01-01|     1|  0|   1|  2|      0|      6|         0|         1|0.22|0.2727| 0.8|        0|     5|        27|  32|\n",
            "|      4|2011-01-01|     1|  0|   1|  3|      0|      6|         0|         1|0.24|0.2879|0.75|        0|     3|        10|  13|\n",
            "|      5|2011-01-01|     1|  0|   1|  4|      0|      6|         0|         1|0.24|0.2879|0.75|        0|     0|         1|   1|\n",
            "|      6|2011-01-01|     1|  0|   1|  5|      0|      6|         0|         2|0.24|0.2576|0.75|   0.0896|     0|         1|   1|\n",
            "|      7|2011-01-01|     1|  0|   1|  6|      0|      6|         0|         1|0.22|0.2727| 0.8|        0|     2|         0|   2|\n",
            "|      8|2011-01-01|     1|  0|   1|  7|      0|      6|         0|         1| 0.2|0.2576|0.86|        0|     1|         2|   3|\n",
            "|      9|2011-01-01|     1|  0|   1|  8|      0|      6|         0|         1|0.24|0.2879|0.75|        0|     1|         7|   8|\n",
            "|     10|2011-01-01|     1|  0|   1|  9|      0|      6|         0|         1|0.32|0.3485|0.76|        0|     8|         6|  14|\n",
            "|     11|2011-01-01|     1|  0|   1| 10|      0|      6|         0|         1|0.38|0.3939|0.76|   0.2537|    12|        24|  36|\n",
            "|     12|2011-01-01|     1|  0|   1| 11|      0|      6|         0|         1|0.36|0.3333|0.81|   0.2836|    26|        30|  56|\n",
            "|     13|2011-01-01|     1|  0|   1| 12|      0|      6|         0|         1|0.42|0.4242|0.77|   0.2836|    29|        55|  84|\n",
            "|     14|2011-01-01|     1|  0|   1| 13|      0|      6|         0|         2|0.46|0.4545|0.72|   0.2985|    47|        47|  94|\n",
            "|     15|2011-01-01|     1|  0|   1| 14|      0|      6|         0|         2|0.46|0.4545|0.72|   0.2836|    35|        71| 106|\n",
            "|     16|2011-01-01|     1|  0|   1| 15|      0|      6|         0|         2|0.44|0.4394|0.77|   0.2985|    40|        70| 110|\n",
            "|     17|2011-01-01|     1|  0|   1| 16|      0|      6|         0|         2|0.42|0.4242|0.82|   0.2985|    41|        52|  93|\n",
            "|     18|2011-01-01|     1|  0|   1| 17|      0|      6|         0|         2|0.44|0.4394|0.82|   0.2836|    15|        52|  67|\n",
            "|     19|2011-01-01|     1|  0|   1| 18|      0|      6|         0|         3|0.42|0.4242|0.88|   0.2537|     9|        26|  35|\n",
            "+-------+----------+------+---+----+---+-------+-------+----------+----------+----+------+----+---------+------+----------+----+\n",
            "only showing top 20 rows\n",
            "\n"
          ]
        }
      ]
    },
    {
      "cell_type": "code",
      "source": [
        "df_pyspark=spark.read.option('header','true').csv('hour (2).csv',inferSchema=True)"
      ],
      "metadata": {
        "id": "K6fjf6-Cg8_Q"
      },
      "execution_count": null,
      "outputs": []
    },
    {
      "cell_type": "code",
      "source": [
        "df_pyspark.show()"
      ],
      "metadata": {
        "colab": {
          "base_uri": "https://localhost:8080/"
        },
        "id": "3N3zPeWchSXY",
        "outputId": "b2ffca26-ac52-4e4d-9a7e-fec34f443a20"
      },
      "execution_count": null,
      "outputs": [
        {
          "output_type": "stream",
          "name": "stdout",
          "text": [
            "+-------+----------+------+---+----+---+-------+-------+----------+----------+----+------+----+---------+------+----------+---+\n",
            "|instant|    dteday|season| yr|mnth| hr|holiday|weekday|workingday|weathersit|temp| atemp| hum|windspeed|casual|registered|cnt|\n",
            "+-------+----------+------+---+----+---+-------+-------+----------+----------+----+------+----+---------+------+----------+---+\n",
            "|      1|2011-01-01|     1|  0|   1|  0|      0|      6|         0|         1|0.24|0.2879|0.81|      0.0|     3|        13| 16|\n",
            "|      2|2011-01-01|     1|  0|   1|  1|      0|      6|         0|         1|0.22|0.2727| 0.8|      0.0|     8|        32| 40|\n",
            "|      3|2011-01-01|     1|  0|   1|  2|      0|      6|         0|         1|0.22|0.2727| 0.8|      0.0|     5|        27| 32|\n",
            "|      4|2011-01-01|     1|  0|   1|  3|      0|      6|         0|         1|0.24|0.2879|0.75|      0.0|     3|        10| 13|\n",
            "|      5|2011-01-01|     1|  0|   1|  4|      0|      6|         0|         1|0.24|0.2879|0.75|      0.0|     0|         1|  1|\n",
            "|      6|2011-01-01|     1|  0|   1|  5|      0|      6|         0|         2|0.24|0.2576|0.75|   0.0896|     0|         1|  1|\n",
            "|      7|2011-01-01|     1|  0|   1|  6|      0|      6|         0|         1|0.22|0.2727| 0.8|      0.0|     2|         0|  2|\n",
            "|      8|2011-01-01|     1|  0|   1|  7|      0|      6|         0|         1| 0.2|0.2576|0.86|      0.0|     1|         2|  3|\n",
            "|      9|2011-01-01|     1|  0|   1|  8|      0|      6|         0|         1|0.24|0.2879|0.75|      0.0|     1|         7|  8|\n",
            "|     10|2011-01-01|     1|  0|   1|  9|      0|      6|         0|         1|0.32|0.3485|0.76|      0.0|     8|         6| 14|\n",
            "|     11|2011-01-01|     1|  0|   1| 10|      0|      6|         0|         1|0.38|0.3939|0.76|   0.2537|    12|        24| 36|\n",
            "|     12|2011-01-01|     1|  0|   1| 11|      0|      6|         0|         1|0.36|0.3333|0.81|   0.2836|    26|        30| 56|\n",
            "|     13|2011-01-01|     1|  0|   1| 12|      0|      6|         0|         1|0.42|0.4242|0.77|   0.2836|    29|        55| 84|\n",
            "|     14|2011-01-01|     1|  0|   1| 13|      0|      6|         0|         2|0.46|0.4545|0.72|   0.2985|    47|        47| 94|\n",
            "|     15|2011-01-01|     1|  0|   1| 14|      0|      6|         0|         2|0.46|0.4545|0.72|   0.2836|    35|        71|106|\n",
            "|     16|2011-01-01|     1|  0|   1| 15|      0|      6|         0|         2|0.44|0.4394|0.77|   0.2985|    40|        70|110|\n",
            "|     17|2011-01-01|     1|  0|   1| 16|      0|      6|         0|         2|0.42|0.4242|0.82|   0.2985|    41|        52| 93|\n",
            "|     18|2011-01-01|     1|  0|   1| 17|      0|      6|         0|         2|0.44|0.4394|0.82|   0.2836|    15|        52| 67|\n",
            "|     19|2011-01-01|     1|  0|   1| 18|      0|      6|         0|         3|0.42|0.4242|0.88|   0.2537|     9|        26| 35|\n",
            "|     20|2011-01-01|     1|  0|   1| 19|      0|      6|         0|         3|0.42|0.4242|0.88|   0.2537|     6|        31| 37|\n",
            "+-------+----------+------+---+----+---+-------+-------+----------+----------+----+------+----+---------+------+----------+---+\n",
            "only showing top 20 rows\n",
            "\n"
          ]
        }
      ]
    },
    {
      "cell_type": "code",
      "source": [
        "df_pyspark.head()"
      ],
      "metadata": {
        "colab": {
          "base_uri": "https://localhost:8080/"
        },
        "id": "l5gSQDKnhWY_",
        "outputId": "3fb8df4f-4a11-47ec-bfef-6c3f7df1c997"
      },
      "execution_count": null,
      "outputs": [
        {
          "output_type": "execute_result",
          "data": {
            "text/plain": [
              "Row(instant=1, dteday=datetime.date(2011, 1, 1), season=1, yr=0, mnth=1, hr=0, holiday=0, weekday=6, workingday=0, weathersit=1, temp=0.24, atemp=0.2879, hum=0.81, windspeed=0.0, casual=3, registered=13, cnt=16)"
            ]
          },
          "metadata": {},
          "execution_count": 12
        }
      ]
    },
    {
      "cell_type": "code",
      "source": [
        "df_pyspark.printSchema()"
      ],
      "metadata": {
        "colab": {
          "base_uri": "https://localhost:8080/"
        },
        "id": "wenoq9bjhluw",
        "outputId": "7fa8e821-cbb8-499a-d450-b93ec2ce1d0f"
      },
      "execution_count": null,
      "outputs": [
        {
          "output_type": "stream",
          "name": "stdout",
          "text": [
            "root\n",
            " |-- instant: integer (nullable = true)\n",
            " |-- dteday: date (nullable = true)\n",
            " |-- season: integer (nullable = true)\n",
            " |-- yr: integer (nullable = true)\n",
            " |-- mnth: integer (nullable = true)\n",
            " |-- hr: integer (nullable = true)\n",
            " |-- holiday: integer (nullable = true)\n",
            " |-- weekday: integer (nullable = true)\n",
            " |-- workingday: integer (nullable = true)\n",
            " |-- weathersit: integer (nullable = true)\n",
            " |-- temp: double (nullable = true)\n",
            " |-- atemp: double (nullable = true)\n",
            " |-- hum: double (nullable = true)\n",
            " |-- windspeed: double (nullable = true)\n",
            " |-- casual: integer (nullable = true)\n",
            " |-- registered: integer (nullable = true)\n",
            " |-- cnt: integer (nullable = true)\n",
            "\n"
          ]
        }
      ]
    },
    {
      "cell_type": "markdown",
      "source": [
        "part 2 processing data"
      ],
      "metadata": {
        "id": "p0p9fmNKiTyo"
      }
    },
    {
      "cell_type": "code",
      "source": [
        "from pyspark.sql import SparkSession"
      ],
      "metadata": {
        "id": "COszxPHUhpXY"
      },
      "execution_count": null,
      "outputs": []
    },
    {
      "cell_type": "code",
      "source": [
        "#spark=SparkSession.builder.appName('Practive2').gerOrCreate()"
      ],
      "metadata": {
        "id": "-LsKX5LBiWgx"
      },
      "execution_count": null,
      "outputs": []
    },
    {
      "cell_type": "code",
      "source": [
        "spark"
      ],
      "metadata": {
        "colab": {
          "base_uri": "https://localhost:8080/",
          "height": 219
        },
        "id": "cW0x7zr-iWeT",
        "outputId": "cc36ba01-7c21-4fbd-f7a2-4cc643fc7abf"
      },
      "execution_count": null,
      "outputs": [
        {
          "output_type": "execute_result",
          "data": {
            "text/plain": [
              "<pyspark.sql.session.SparkSession at 0x792a2499dc90>"
            ],
            "text/html": [
              "\n",
              "            <div>\n",
              "                <p><b>SparkSession - in-memory</b></p>\n",
              "                \n",
              "        <div>\n",
              "            <p><b>SparkContext</b></p>\n",
              "\n",
              "            <p><a href=\"http://570d48ab17fb:4040\">Spark UI</a></p>\n",
              "\n",
              "            <dl>\n",
              "              <dt>Version</dt>\n",
              "                <dd><code>v3.5.1</code></dd>\n",
              "              <dt>Master</dt>\n",
              "                <dd><code>local[*]</code></dd>\n",
              "              <dt>AppName</dt>\n",
              "                <dd><code>practice</code></dd>\n",
              "            </dl>\n",
              "        </div>\n",
              "        \n",
              "            </div>\n",
              "        "
            ]
          },
          "metadata": {},
          "execution_count": 15
        }
      ]
    },
    {
      "cell_type": "code",
      "source": [
        "## check schema\n",
        "df_pyspark.printSchema()"
      ],
      "metadata": {
        "colab": {
          "base_uri": "https://localhost:8080/"
        },
        "id": "mVerTvtBiWZs",
        "outputId": "9dc496a9-92f2-4a63-a654-2687ddfb6246"
      },
      "execution_count": null,
      "outputs": [
        {
          "output_type": "stream",
          "name": "stdout",
          "text": [
            "root\n",
            " |-- instant: integer (nullable = true)\n",
            " |-- dteday: date (nullable = true)\n",
            " |-- season: integer (nullable = true)\n",
            " |-- yr: integer (nullable = true)\n",
            " |-- mnth: integer (nullable = true)\n",
            " |-- hr: integer (nullable = true)\n",
            " |-- holiday: integer (nullable = true)\n",
            " |-- weekday: integer (nullable = true)\n",
            " |-- workingday: integer (nullable = true)\n",
            " |-- weathersit: integer (nullable = true)\n",
            " |-- temp: double (nullable = true)\n",
            " |-- atemp: double (nullable = true)\n",
            " |-- hum: double (nullable = true)\n",
            " |-- windspeed: double (nullable = true)\n",
            " |-- casual: integer (nullable = true)\n",
            " |-- registered: integer (nullable = true)\n",
            " |-- cnt: integer (nullable = true)\n",
            "\n"
          ]
        }
      ]
    },
    {
      "cell_type": "code",
      "source": [
        "df_pyspark2=spark.read.csv('hour (2).csv',header=True,inferSchema=True)"
      ],
      "metadata": {
        "id": "VWgU5T9siWW8"
      },
      "execution_count": null,
      "outputs": []
    },
    {
      "cell_type": "code",
      "source": [
        "df_pyspark.show()"
      ],
      "metadata": {
        "colab": {
          "base_uri": "https://localhost:8080/"
        },
        "id": "_J410l7qiWUD",
        "outputId": "b45286cf-bb2a-4cd3-a183-b5f3280d14f9"
      },
      "execution_count": null,
      "outputs": [
        {
          "output_type": "stream",
          "name": "stdout",
          "text": [
            "+-------+----------+------+---+----+---+-------+-------+----------+----------+----+------+----+---------+------+----------+---+\n",
            "|instant|    dteday|season| yr|mnth| hr|holiday|weekday|workingday|weathersit|temp| atemp| hum|windspeed|casual|registered|cnt|\n",
            "+-------+----------+------+---+----+---+-------+-------+----------+----------+----+------+----+---------+------+----------+---+\n",
            "|      1|2011-01-01|     1|  0|   1|  0|      0|      6|         0|         1|0.24|0.2879|0.81|      0.0|     3|        13| 16|\n",
            "|      2|2011-01-01|     1|  0|   1|  1|      0|      6|         0|         1|0.22|0.2727| 0.8|      0.0|     8|        32| 40|\n",
            "|      3|2011-01-01|     1|  0|   1|  2|      0|      6|         0|         1|0.22|0.2727| 0.8|      0.0|     5|        27| 32|\n",
            "|      4|2011-01-01|     1|  0|   1|  3|      0|      6|         0|         1|0.24|0.2879|0.75|      0.0|     3|        10| 13|\n",
            "|      5|2011-01-01|     1|  0|   1|  4|      0|      6|         0|         1|0.24|0.2879|0.75|      0.0|     0|         1|  1|\n",
            "|      6|2011-01-01|     1|  0|   1|  5|      0|      6|         0|         2|0.24|0.2576|0.75|   0.0896|     0|         1|  1|\n",
            "|      7|2011-01-01|     1|  0|   1|  6|      0|      6|         0|         1|0.22|0.2727| 0.8|      0.0|     2|         0|  2|\n",
            "|      8|2011-01-01|     1|  0|   1|  7|      0|      6|         0|         1| 0.2|0.2576|0.86|      0.0|     1|         2|  3|\n",
            "|      9|2011-01-01|     1|  0|   1|  8|      0|      6|         0|         1|0.24|0.2879|0.75|      0.0|     1|         7|  8|\n",
            "|     10|2011-01-01|     1|  0|   1|  9|      0|      6|         0|         1|0.32|0.3485|0.76|      0.0|     8|         6| 14|\n",
            "|     11|2011-01-01|     1|  0|   1| 10|      0|      6|         0|         1|0.38|0.3939|0.76|   0.2537|    12|        24| 36|\n",
            "|     12|2011-01-01|     1|  0|   1| 11|      0|      6|         0|         1|0.36|0.3333|0.81|   0.2836|    26|        30| 56|\n",
            "|     13|2011-01-01|     1|  0|   1| 12|      0|      6|         0|         1|0.42|0.4242|0.77|   0.2836|    29|        55| 84|\n",
            "|     14|2011-01-01|     1|  0|   1| 13|      0|      6|         0|         2|0.46|0.4545|0.72|   0.2985|    47|        47| 94|\n",
            "|     15|2011-01-01|     1|  0|   1| 14|      0|      6|         0|         2|0.46|0.4545|0.72|   0.2836|    35|        71|106|\n",
            "|     16|2011-01-01|     1|  0|   1| 15|      0|      6|         0|         2|0.44|0.4394|0.77|   0.2985|    40|        70|110|\n",
            "|     17|2011-01-01|     1|  0|   1| 16|      0|      6|         0|         2|0.42|0.4242|0.82|   0.2985|    41|        52| 93|\n",
            "|     18|2011-01-01|     1|  0|   1| 17|      0|      6|         0|         2|0.44|0.4394|0.82|   0.2836|    15|        52| 67|\n",
            "|     19|2011-01-01|     1|  0|   1| 18|      0|      6|         0|         3|0.42|0.4242|0.88|   0.2537|     9|        26| 35|\n",
            "|     20|2011-01-01|     1|  0|   1| 19|      0|      6|         0|         3|0.42|0.4242|0.88|   0.2537|     6|        31| 37|\n",
            "+-------+----------+------+---+----+---+-------+-------+----------+----------+----+------+----+---------+------+----------+---+\n",
            "only showing top 20 rows\n",
            "\n"
          ]
        }
      ]
    },
    {
      "cell_type": "code",
      "source": [
        "df_pyspark.printSchema()"
      ],
      "metadata": {
        "colab": {
          "base_uri": "https://localhost:8080/"
        },
        "id": "94lFsgAkiWQ9",
        "outputId": "2bef3202-2fd8-4e44-a658-5b4bc09ae60d"
      },
      "execution_count": null,
      "outputs": [
        {
          "output_type": "stream",
          "name": "stdout",
          "text": [
            "root\n",
            " |-- instant: integer (nullable = true)\n",
            " |-- dteday: date (nullable = true)\n",
            " |-- season: integer (nullable = true)\n",
            " |-- yr: integer (nullable = true)\n",
            " |-- mnth: integer (nullable = true)\n",
            " |-- hr: integer (nullable = true)\n",
            " |-- holiday: integer (nullable = true)\n",
            " |-- weekday: integer (nullable = true)\n",
            " |-- workingday: integer (nullable = true)\n",
            " |-- weathersit: integer (nullable = true)\n",
            " |-- temp: double (nullable = true)\n",
            " |-- atemp: double (nullable = true)\n",
            " |-- hum: double (nullable = true)\n",
            " |-- windspeed: double (nullable = true)\n",
            " |-- casual: integer (nullable = true)\n",
            " |-- registered: integer (nullable = true)\n",
            " |-- cnt: integer (nullable = true)\n",
            "\n"
          ]
        }
      ]
    },
    {
      "cell_type": "code",
      "source": [
        "type(df_pyspark)"
      ],
      "metadata": {
        "colab": {
          "base_uri": "https://localhost:8080/",
          "height": 187
        },
        "id": "WIx57evtiWJg",
        "outputId": "ae002f54-30d4-4ed8-df1c-e21a5c2d7aae"
      },
      "execution_count": null,
      "outputs": [
        {
          "output_type": "execute_result",
          "data": {
            "text/plain": [
              "pyspark.sql.dataframe.DataFrame"
            ],
            "text/html": [
              "<div style=\"max-width:800px; border: 1px solid var(--colab-border-color);\"><style>\n",
              "      pre.function-repr-contents {\n",
              "        overflow-x: auto;\n",
              "        padding: 8px 12px;\n",
              "        max-height: 500px;\n",
              "      }\n",
              "\n",
              "      pre.function-repr-contents.function-repr-contents-collapsed {\n",
              "        cursor: pointer;\n",
              "        max-height: 100px;\n",
              "      }\n",
              "    </style>\n",
              "    <pre style=\"white-space: initial; background:\n",
              "         var(--colab-secondary-surface-color); padding: 8px 12px;\n",
              "         border-bottom: 1px solid var(--colab-border-color);\"><b>pyspark.sql.dataframe.DataFrame</b><br/>def __init__(jdf: JavaObject, sql_ctx: Union[&#x27;SQLContext&#x27;, &#x27;SparkSession&#x27;])</pre><pre class=\"function-repr-contents function-repr-contents-collapsed\" style=\"\"><a class=\"filepath\" style=\"display:none\" href=\"#\">/usr/local/lib/python3.10/dist-packages/pyspark/sql/dataframe.py</a>A distributed collection of data grouped into named columns.\n",
              "\n",
              ".. versionadded:: 1.3.0\n",
              "\n",
              ".. versionchanged:: 3.4.0\n",
              "    Supports Spark Connect.\n",
              "\n",
              "Examples\n",
              "--------\n",
              "A :class:`DataFrame` is equivalent to a relational table in Spark SQL,\n",
              "and can be created using various functions in :class:`SparkSession`:\n",
              "\n",
              "&gt;&gt;&gt; people = spark.createDataFrame([\n",
              "...     {&quot;deptId&quot;: 1, &quot;age&quot;: 40, &quot;name&quot;: &quot;Hyukjin Kwon&quot;, &quot;gender&quot;: &quot;M&quot;, &quot;salary&quot;: 50},\n",
              "...     {&quot;deptId&quot;: 1, &quot;age&quot;: 50, &quot;name&quot;: &quot;Takuya Ueshin&quot;, &quot;gender&quot;: &quot;M&quot;, &quot;salary&quot;: 100},\n",
              "...     {&quot;deptId&quot;: 2, &quot;age&quot;: 60, &quot;name&quot;: &quot;Xinrong Meng&quot;, &quot;gender&quot;: &quot;F&quot;, &quot;salary&quot;: 150},\n",
              "...     {&quot;deptId&quot;: 3, &quot;age&quot;: 20, &quot;name&quot;: &quot;Haejoon Lee&quot;, &quot;gender&quot;: &quot;M&quot;, &quot;salary&quot;: 200}\n",
              "... ])\n",
              "\n",
              "Once created, it can be manipulated using the various domain-specific-language\n",
              "(DSL) functions defined in: :class:`DataFrame`, :class:`Column`.\n",
              "\n",
              "To select a column from the :class:`DataFrame`, use the apply method:\n",
              "\n",
              "&gt;&gt;&gt; age_col = people.age\n",
              "\n",
              "A more concrete example:\n",
              "\n",
              "&gt;&gt;&gt; # To create DataFrame using SparkSession\n",
              "... department = spark.createDataFrame([\n",
              "...     {&quot;id&quot;: 1, &quot;name&quot;: &quot;PySpark&quot;},\n",
              "...     {&quot;id&quot;: 2, &quot;name&quot;: &quot;ML&quot;},\n",
              "...     {&quot;id&quot;: 3, &quot;name&quot;: &quot;Spark SQL&quot;}\n",
              "... ])\n",
              "\n",
              "&gt;&gt;&gt; people.filter(people.age &gt; 30).join(\n",
              "...     department, people.deptId == department.id).groupBy(\n",
              "...     department.name, &quot;gender&quot;).agg({&quot;salary&quot;: &quot;avg&quot;, &quot;age&quot;: &quot;max&quot;}).show()\n",
              "+-------+------+-----------+--------+\n",
              "|   name|gender|avg(salary)|max(age)|\n",
              "+-------+------+-----------+--------+\n",
              "|     ML|     F|      150.0|      60|\n",
              "|PySpark|     M|       75.0|      50|\n",
              "+-------+------+-----------+--------+\n",
              "\n",
              "Notes\n",
              "-----\n",
              "A DataFrame should only be created as described above. It should not be directly\n",
              "created via using the constructor.</pre>\n",
              "      <script>\n",
              "      if (google.colab.kernel.accessAllowed && google.colab.files && google.colab.files.view) {\n",
              "        for (const element of document.querySelectorAll('.filepath')) {\n",
              "          element.style.display = 'block'\n",
              "          element.onclick = (event) => {\n",
              "            event.preventDefault();\n",
              "            event.stopPropagation();\n",
              "            google.colab.files.view(element.textContent, 80);\n",
              "          };\n",
              "        }\n",
              "      }\n",
              "      for (const element of document.querySelectorAll('.function-repr-contents')) {\n",
              "        element.onclick = (event) => {\n",
              "          event.preventDefault();\n",
              "          event.stopPropagation();\n",
              "          element.classList.toggle('function-repr-contents-collapsed');\n",
              "        };\n",
              "      }\n",
              "      </script>\n",
              "      </div>"
            ]
          },
          "metadata": {},
          "execution_count": 19
        }
      ]
    },
    {
      "cell_type": "code",
      "source": [
        "df_pyspark.columns"
      ],
      "metadata": {
        "colab": {
          "base_uri": "https://localhost:8080/"
        },
        "id": "Z7bKFTZOkOJY",
        "outputId": "980054e5-702d-4885-8137-7850f1d9ce7d"
      },
      "execution_count": null,
      "outputs": [
        {
          "output_type": "execute_result",
          "data": {
            "text/plain": [
              "['instant',\n",
              " 'dteday',\n",
              " 'season',\n",
              " 'yr',\n",
              " 'mnth',\n",
              " 'hr',\n",
              " 'holiday',\n",
              " 'weekday',\n",
              " 'workingday',\n",
              " 'weathersit',\n",
              " 'temp',\n",
              " 'atemp',\n",
              " 'hum',\n",
              " 'windspeed',\n",
              " 'casual',\n",
              " 'registered',\n",
              " 'cnt']"
            ]
          },
          "metadata": {},
          "execution_count": 20
        }
      ]
    },
    {
      "cell_type": "code",
      "source": [
        "df_pyspark.head(3)"
      ],
      "metadata": {
        "colab": {
          "base_uri": "https://localhost:8080/"
        },
        "id": "_dvTAwaDk4nR",
        "outputId": "e37a647a-220c-4a2e-d50b-12d7a3d2d238"
      },
      "execution_count": null,
      "outputs": [
        {
          "output_type": "execute_result",
          "data": {
            "text/plain": [
              "[Row(instant=1, dteday=datetime.date(2011, 1, 1), season=1, yr=0, mnth=1, hr=0, holiday=0, weekday=6, workingday=0, weathersit=1, temp=0.24, atemp=0.2879, hum=0.81, windspeed=0.0, casual=3, registered=13, cnt=16),\n",
              " Row(instant=2, dteday=datetime.date(2011, 1, 1), season=1, yr=0, mnth=1, hr=1, holiday=0, weekday=6, workingday=0, weathersit=1, temp=0.22, atemp=0.2727, hum=0.8, windspeed=0.0, casual=8, registered=32, cnt=40),\n",
              " Row(instant=3, dteday=datetime.date(2011, 1, 1), season=1, yr=0, mnth=1, hr=2, holiday=0, weekday=6, workingday=0, weathersit=1, temp=0.22, atemp=0.2727, hum=0.8, windspeed=0.0, casual=5, registered=27, cnt=32)]"
            ]
          },
          "metadata": {},
          "execution_count": 21
        }
      ]
    },
    {
      "cell_type": "code",
      "source": [
        "df_pyspark.show()"
      ],
      "metadata": {
        "colab": {
          "base_uri": "https://localhost:8080/"
        },
        "id": "-jfUaLg5lBdQ",
        "outputId": "b06a4f93-7cf9-4110-d604-31a374d62268"
      },
      "execution_count": null,
      "outputs": [
        {
          "output_type": "stream",
          "name": "stdout",
          "text": [
            "+-------+----------+------+---+----+---+-------+-------+----------+----------+----+------+----+---------+------+----------+---+\n",
            "|instant|    dteday|season| yr|mnth| hr|holiday|weekday|workingday|weathersit|temp| atemp| hum|windspeed|casual|registered|cnt|\n",
            "+-------+----------+------+---+----+---+-------+-------+----------+----------+----+------+----+---------+------+----------+---+\n",
            "|      1|2011-01-01|     1|  0|   1|  0|      0|      6|         0|         1|0.24|0.2879|0.81|      0.0|     3|        13| 16|\n",
            "|      2|2011-01-01|     1|  0|   1|  1|      0|      6|         0|         1|0.22|0.2727| 0.8|      0.0|     8|        32| 40|\n",
            "|      3|2011-01-01|     1|  0|   1|  2|      0|      6|         0|         1|0.22|0.2727| 0.8|      0.0|     5|        27| 32|\n",
            "|      4|2011-01-01|     1|  0|   1|  3|      0|      6|         0|         1|0.24|0.2879|0.75|      0.0|     3|        10| 13|\n",
            "|      5|2011-01-01|     1|  0|   1|  4|      0|      6|         0|         1|0.24|0.2879|0.75|      0.0|     0|         1|  1|\n",
            "|      6|2011-01-01|     1|  0|   1|  5|      0|      6|         0|         2|0.24|0.2576|0.75|   0.0896|     0|         1|  1|\n",
            "|      7|2011-01-01|     1|  0|   1|  6|      0|      6|         0|         1|0.22|0.2727| 0.8|      0.0|     2|         0|  2|\n",
            "|      8|2011-01-01|     1|  0|   1|  7|      0|      6|         0|         1| 0.2|0.2576|0.86|      0.0|     1|         2|  3|\n",
            "|      9|2011-01-01|     1|  0|   1|  8|      0|      6|         0|         1|0.24|0.2879|0.75|      0.0|     1|         7|  8|\n",
            "|     10|2011-01-01|     1|  0|   1|  9|      0|      6|         0|         1|0.32|0.3485|0.76|      0.0|     8|         6| 14|\n",
            "|     11|2011-01-01|     1|  0|   1| 10|      0|      6|         0|         1|0.38|0.3939|0.76|   0.2537|    12|        24| 36|\n",
            "|     12|2011-01-01|     1|  0|   1| 11|      0|      6|         0|         1|0.36|0.3333|0.81|   0.2836|    26|        30| 56|\n",
            "|     13|2011-01-01|     1|  0|   1| 12|      0|      6|         0|         1|0.42|0.4242|0.77|   0.2836|    29|        55| 84|\n",
            "|     14|2011-01-01|     1|  0|   1| 13|      0|      6|         0|         2|0.46|0.4545|0.72|   0.2985|    47|        47| 94|\n",
            "|     15|2011-01-01|     1|  0|   1| 14|      0|      6|         0|         2|0.46|0.4545|0.72|   0.2836|    35|        71|106|\n",
            "|     16|2011-01-01|     1|  0|   1| 15|      0|      6|         0|         2|0.44|0.4394|0.77|   0.2985|    40|        70|110|\n",
            "|     17|2011-01-01|     1|  0|   1| 16|      0|      6|         0|         2|0.42|0.4242|0.82|   0.2985|    41|        52| 93|\n",
            "|     18|2011-01-01|     1|  0|   1| 17|      0|      6|         0|         2|0.44|0.4394|0.82|   0.2836|    15|        52| 67|\n",
            "|     19|2011-01-01|     1|  0|   1| 18|      0|      6|         0|         3|0.42|0.4242|0.88|   0.2537|     9|        26| 35|\n",
            "|     20|2011-01-01|     1|  0|   1| 19|      0|      6|         0|         3|0.42|0.4242|0.88|   0.2537|     6|        31| 37|\n",
            "+-------+----------+------+---+----+---+-------+-------+----------+----------+----+------+----+---------+------+----------+---+\n",
            "only showing top 20 rows\n",
            "\n"
          ]
        }
      ]
    },
    {
      "cell_type": "code",
      "source": [
        "df_pyspark.select('dteday').show()"
      ],
      "metadata": {
        "colab": {
          "base_uri": "https://localhost:8080/"
        },
        "id": "q_SWwWz6lkFx",
        "outputId": "f3916971-b4de-41cf-c4e3-9cff03a45312"
      },
      "execution_count": null,
      "outputs": [
        {
          "output_type": "stream",
          "name": "stdout",
          "text": [
            "+----------+\n",
            "|    dteday|\n",
            "+----------+\n",
            "|2011-01-01|\n",
            "|2011-01-01|\n",
            "|2011-01-01|\n",
            "|2011-01-01|\n",
            "|2011-01-01|\n",
            "|2011-01-01|\n",
            "|2011-01-01|\n",
            "|2011-01-01|\n",
            "|2011-01-01|\n",
            "|2011-01-01|\n",
            "|2011-01-01|\n",
            "|2011-01-01|\n",
            "|2011-01-01|\n",
            "|2011-01-01|\n",
            "|2011-01-01|\n",
            "|2011-01-01|\n",
            "|2011-01-01|\n",
            "|2011-01-01|\n",
            "|2011-01-01|\n",
            "|2011-01-01|\n",
            "+----------+\n",
            "only showing top 20 rows\n",
            "\n"
          ]
        }
      ]
    },
    {
      "cell_type": "code",
      "source": [
        "df_pyspark.select(['dteday','season']).show(5)"
      ],
      "metadata": {
        "colab": {
          "base_uri": "https://localhost:8080/"
        },
        "id": "g3_P2VXflqO5",
        "outputId": "ef986ade-033e-4ad8-99d0-452a92971c17"
      },
      "execution_count": null,
      "outputs": [
        {
          "output_type": "stream",
          "name": "stdout",
          "text": [
            "+----------+------+\n",
            "|    dteday|season|\n",
            "+----------+------+\n",
            "|2011-01-01|     1|\n",
            "|2011-01-01|     1|\n",
            "|2011-01-01|     1|\n",
            "|2011-01-01|     1|\n",
            "|2011-01-01|     1|\n",
            "+----------+------+\n",
            "only showing top 5 rows\n",
            "\n"
          ]
        }
      ]
    },
    {
      "cell_type": "code",
      "source": [
        "df_pyspark['dteday']"
      ],
      "metadata": {
        "colab": {
          "base_uri": "https://localhost:8080/"
        },
        "id": "y6j0YQycmOOx",
        "outputId": "ac599806-5f33-4e03-c2b1-4503dbfe83df"
      },
      "execution_count": null,
      "outputs": [
        {
          "output_type": "execute_result",
          "data": {
            "text/plain": [
              "Column<'dteday'>"
            ]
          },
          "metadata": {},
          "execution_count": 24
        }
      ]
    },
    {
      "cell_type": "code",
      "source": [
        "df_pyspark.dtypes"
      ],
      "metadata": {
        "colab": {
          "base_uri": "https://localhost:8080/"
        },
        "id": "Yyyj2vBVmuXp",
        "outputId": "905cef3e-4e82-41b6-90a4-cae918ccf709"
      },
      "execution_count": null,
      "outputs": [
        {
          "output_type": "execute_result",
          "data": {
            "text/plain": [
              "[('instant', 'int'),\n",
              " ('dteday', 'date'),\n",
              " ('season', 'int'),\n",
              " ('yr', 'int'),\n",
              " ('mnth', 'int'),\n",
              " ('hr', 'int'),\n",
              " ('holiday', 'int'),\n",
              " ('weekday', 'int'),\n",
              " ('workingday', 'int'),\n",
              " ('weathersit', 'int'),\n",
              " ('temp', 'double'),\n",
              " ('atemp', 'double'),\n",
              " ('hum', 'double'),\n",
              " ('windspeed', 'double'),\n",
              " ('casual', 'int'),\n",
              " ('registered', 'int'),\n",
              " ('cnt', 'int')]"
            ]
          },
          "metadata": {},
          "execution_count": 25
        }
      ]
    },
    {
      "cell_type": "code",
      "source": [
        "df_pyspark.describe().show()"
      ],
      "metadata": {
        "colab": {
          "base_uri": "https://localhost:8080/"
        },
        "id": "4xV6G1kAm34b",
        "outputId": "ed0f17f6-5de4-4308-fbbb-d72aed8092f8"
      },
      "execution_count": null,
      "outputs": [
        {
          "output_type": "stream",
          "name": "stdout",
          "text": [
            "+-------+-----------------+------------------+------------------+------------------+------------------+--------------------+-----------------+------------------+------------------+-------------------+------------------+-------------------+-------------------+-----------------+------------------+------------------+\n",
            "|summary|          instant|            season|                yr|              mnth|                hr|             holiday|          weekday|        workingday|        weathersit|               temp|             atemp|                hum|          windspeed|           casual|        registered|               cnt|\n",
            "+-------+-----------------+------------------+------------------+------------------+------------------+--------------------+-----------------+------------------+------------------+-------------------+------------------+-------------------+-------------------+-----------------+------------------+------------------+\n",
            "|  count|            17379|             17379|             17379|             17379|             17379|               17379|            17379|             17379|             17379|              17379|             17379|              17379|              17379|            17379|             17379|             17379|\n",
            "|   mean|           8690.0|2.5016399102364923|0.5025605615973301| 6.537775476149376|11.546751826917545|0.028770355026181024|3.003682605443351|0.6827205247712756| 1.425283387997008| 0.4969871684216586|0.4757751021347581| 0.6272288394038822| 0.1900976063064631|35.67621842453536|153.78686920996606|189.46308763450142|\n",
            "| stddev|5017.029499614288|  1.10691813944808|0.5000078290910193|3.4387757137501724|6.9144050952644776|  0.1671652763843717|2.005771456110986|0.4654306335238818|0.6393568777542525|0.19255612124972202|0.1718502156353594|0.19292983406291458|0.12234022857279034|49.30503038705298|151.35728591258325| 181.3875990918646|\n",
            "|    min|                1|                 1|                 0|                 1|                 0|                   0|                0|                 0|                 1|               0.02|               0.0|                0.0|                0.0|                0|                 0|                 1|\n",
            "|    max|            17379|                 4|                 1|                12|                23|                   1|                6|                 1|                 4|                1.0|               1.0|                1.0|             0.8507|              367|               886|               977|\n",
            "+-------+-----------------+------------------+------------------+------------------+------------------+--------------------+-----------------+------------------+------------------+-------------------+------------------+-------------------+-------------------+-----------------+------------------+------------------+\n",
            "\n"
          ]
        }
      ]
    },
    {
      "cell_type": "code",
      "source": [
        "#df_pyspark['yeniyil']=df_pyspark['yr']-255 pandas olmuyor"
      ],
      "metadata": {
        "id": "B2Y-uX2_XTgf"
      },
      "execution_count": null,
      "outputs": []
    },
    {
      "cell_type": "code",
      "source": [
        "## adding columns in pyspark dataframe\n",
        "\n",
        "df_pyspark.withColumn('expafter2years',df_pyspark['yr']-2000).show()"
      ],
      "metadata": {
        "colab": {
          "base_uri": "https://localhost:8080/"
        },
        "id": "ca6h_rBznDm6",
        "outputId": "145c1a86-2111-4484-d341-d40201719b75"
      },
      "execution_count": null,
      "outputs": [
        {
          "output_type": "stream",
          "name": "stdout",
          "text": [
            "+-------+----------+------+---+----+---+-------+-------+----------+----------+----+------+----+---------+------+----------+---+--------------+\n",
            "|instant|    dteday|season| yr|mnth| hr|holiday|weekday|workingday|weathersit|temp| atemp| hum|windspeed|casual|registered|cnt|expafter2years|\n",
            "+-------+----------+------+---+----+---+-------+-------+----------+----------+----+------+----+---------+------+----------+---+--------------+\n",
            "|      1|2011-01-01|     1|  0|   1|  0|      0|      6|         0|         1|0.24|0.2879|0.81|      0.0|     3|        13| 16|         -2000|\n",
            "|      2|2011-01-01|     1|  0|   1|  1|      0|      6|         0|         1|0.22|0.2727| 0.8|      0.0|     8|        32| 40|         -2000|\n",
            "|      3|2011-01-01|     1|  0|   1|  2|      0|      6|         0|         1|0.22|0.2727| 0.8|      0.0|     5|        27| 32|         -2000|\n",
            "|      4|2011-01-01|     1|  0|   1|  3|      0|      6|         0|         1|0.24|0.2879|0.75|      0.0|     3|        10| 13|         -2000|\n",
            "|      5|2011-01-01|     1|  0|   1|  4|      0|      6|         0|         1|0.24|0.2879|0.75|      0.0|     0|         1|  1|         -2000|\n",
            "|      6|2011-01-01|     1|  0|   1|  5|      0|      6|         0|         2|0.24|0.2576|0.75|   0.0896|     0|         1|  1|         -2000|\n",
            "|      7|2011-01-01|     1|  0|   1|  6|      0|      6|         0|         1|0.22|0.2727| 0.8|      0.0|     2|         0|  2|         -2000|\n",
            "|      8|2011-01-01|     1|  0|   1|  7|      0|      6|         0|         1| 0.2|0.2576|0.86|      0.0|     1|         2|  3|         -2000|\n",
            "|      9|2011-01-01|     1|  0|   1|  8|      0|      6|         0|         1|0.24|0.2879|0.75|      0.0|     1|         7|  8|         -2000|\n",
            "|     10|2011-01-01|     1|  0|   1|  9|      0|      6|         0|         1|0.32|0.3485|0.76|      0.0|     8|         6| 14|         -2000|\n",
            "|     11|2011-01-01|     1|  0|   1| 10|      0|      6|         0|         1|0.38|0.3939|0.76|   0.2537|    12|        24| 36|         -2000|\n",
            "|     12|2011-01-01|     1|  0|   1| 11|      0|      6|         0|         1|0.36|0.3333|0.81|   0.2836|    26|        30| 56|         -2000|\n",
            "|     13|2011-01-01|     1|  0|   1| 12|      0|      6|         0|         1|0.42|0.4242|0.77|   0.2836|    29|        55| 84|         -2000|\n",
            "|     14|2011-01-01|     1|  0|   1| 13|      0|      6|         0|         2|0.46|0.4545|0.72|   0.2985|    47|        47| 94|         -2000|\n",
            "|     15|2011-01-01|     1|  0|   1| 14|      0|      6|         0|         2|0.46|0.4545|0.72|   0.2836|    35|        71|106|         -2000|\n",
            "|     16|2011-01-01|     1|  0|   1| 15|      0|      6|         0|         2|0.44|0.4394|0.77|   0.2985|    40|        70|110|         -2000|\n",
            "|     17|2011-01-01|     1|  0|   1| 16|      0|      6|         0|         2|0.42|0.4242|0.82|   0.2985|    41|        52| 93|         -2000|\n",
            "|     18|2011-01-01|     1|  0|   1| 17|      0|      6|         0|         2|0.44|0.4394|0.82|   0.2836|    15|        52| 67|         -2000|\n",
            "|     19|2011-01-01|     1|  0|   1| 18|      0|      6|         0|         3|0.42|0.4242|0.88|   0.2537|     9|        26| 35|         -2000|\n",
            "|     20|2011-01-01|     1|  0|   1| 19|      0|      6|         0|         3|0.42|0.4242|0.88|   0.2537|     6|        31| 37|         -2000|\n",
            "+-------+----------+------+---+----+---+-------+-------+----------+----------+----+------+----+---------+------+----------+---+--------------+\n",
            "only showing top 20 rows\n",
            "\n"
          ]
        }
      ]
    },
    {
      "cell_type": "code",
      "source": [
        "df_pyspark.show() # no change to add and update need to dy)pyspark == demek lazim"
      ],
      "metadata": {
        "colab": {
          "base_uri": "https://localhost:8080/"
        },
        "id": "lxPOWs82nnBZ",
        "outputId": "491b2586-78f7-4729-819f-1fc0287f1560"
      },
      "execution_count": null,
      "outputs": [
        {
          "output_type": "stream",
          "name": "stdout",
          "text": [
            "+-------+----------+------+---+----+---+-------+-------+----------+----------+----+------+----+---------+------+----------+---+\n",
            "|instant|    dteday|season| yr|mnth| hr|holiday|weekday|workingday|weathersit|temp| atemp| hum|windspeed|casual|registered|cnt|\n",
            "+-------+----------+------+---+----+---+-------+-------+----------+----------+----+------+----+---------+------+----------+---+\n",
            "|      1|2011-01-01|     1|  0|   1|  0|      0|      6|         0|         1|0.24|0.2879|0.81|      0.0|     3|        13| 16|\n",
            "|      2|2011-01-01|     1|  0|   1|  1|      0|      6|         0|         1|0.22|0.2727| 0.8|      0.0|     8|        32| 40|\n",
            "|      3|2011-01-01|     1|  0|   1|  2|      0|      6|         0|         1|0.22|0.2727| 0.8|      0.0|     5|        27| 32|\n",
            "|      4|2011-01-01|     1|  0|   1|  3|      0|      6|         0|         1|0.24|0.2879|0.75|      0.0|     3|        10| 13|\n",
            "|      5|2011-01-01|     1|  0|   1|  4|      0|      6|         0|         1|0.24|0.2879|0.75|      0.0|     0|         1|  1|\n",
            "|      6|2011-01-01|     1|  0|   1|  5|      0|      6|         0|         2|0.24|0.2576|0.75|   0.0896|     0|         1|  1|\n",
            "|      7|2011-01-01|     1|  0|   1|  6|      0|      6|         0|         1|0.22|0.2727| 0.8|      0.0|     2|         0|  2|\n",
            "|      8|2011-01-01|     1|  0|   1|  7|      0|      6|         0|         1| 0.2|0.2576|0.86|      0.0|     1|         2|  3|\n",
            "|      9|2011-01-01|     1|  0|   1|  8|      0|      6|         0|         1|0.24|0.2879|0.75|      0.0|     1|         7|  8|\n",
            "|     10|2011-01-01|     1|  0|   1|  9|      0|      6|         0|         1|0.32|0.3485|0.76|      0.0|     8|         6| 14|\n",
            "|     11|2011-01-01|     1|  0|   1| 10|      0|      6|         0|         1|0.38|0.3939|0.76|   0.2537|    12|        24| 36|\n",
            "|     12|2011-01-01|     1|  0|   1| 11|      0|      6|         0|         1|0.36|0.3333|0.81|   0.2836|    26|        30| 56|\n",
            "|     13|2011-01-01|     1|  0|   1| 12|      0|      6|         0|         1|0.42|0.4242|0.77|   0.2836|    29|        55| 84|\n",
            "|     14|2011-01-01|     1|  0|   1| 13|      0|      6|         0|         2|0.46|0.4545|0.72|   0.2985|    47|        47| 94|\n",
            "|     15|2011-01-01|     1|  0|   1| 14|      0|      6|         0|         2|0.46|0.4545|0.72|   0.2836|    35|        71|106|\n",
            "|     16|2011-01-01|     1|  0|   1| 15|      0|      6|         0|         2|0.44|0.4394|0.77|   0.2985|    40|        70|110|\n",
            "|     17|2011-01-01|     1|  0|   1| 16|      0|      6|         0|         2|0.42|0.4242|0.82|   0.2985|    41|        52| 93|\n",
            "|     18|2011-01-01|     1|  0|   1| 17|      0|      6|         0|         2|0.44|0.4394|0.82|   0.2836|    15|        52| 67|\n",
            "|     19|2011-01-01|     1|  0|   1| 18|      0|      6|         0|         3|0.42|0.4242|0.88|   0.2537|     9|        26| 35|\n",
            "|     20|2011-01-01|     1|  0|   1| 19|      0|      6|         0|         3|0.42|0.4242|0.88|   0.2537|     6|        31| 37|\n",
            "+-------+----------+------+---+----+---+-------+-------+----------+----------+----+------+----+---------+------+----------+---+\n",
            "only showing top 20 rows\n",
            "\n"
          ]
        }
      ]
    },
    {
      "cell_type": "code",
      "source": [
        "#drop the columns\n",
        "df_pyspark=df_pyspark.withColumn('expafter2years',df_pyspark['yr']-2000)\n",
        "\n"
      ],
      "metadata": {
        "id": "yFVWqb0wnz09"
      },
      "execution_count": null,
      "outputs": []
    },
    {
      "cell_type": "code",
      "source": [
        "from pyspark.sql import functions as F\n"
      ],
      "metadata": {
        "id": "PW2Wg2NVoZVc"
      },
      "execution_count": null,
      "outputs": []
    },
    {
      "cell_type": "code",
      "source": [
        "#drop the column we added\n",
        "df_pyspark.drop(F.col('expafter2years'))"
      ],
      "metadata": {
        "colab": {
          "base_uri": "https://localhost:8080/"
        },
        "id": "H1PzcDIPoD7a",
        "outputId": "e890a300-ba58-42de-cb5f-0ed5372125b4"
      },
      "execution_count": null,
      "outputs": [
        {
          "output_type": "execute_result",
          "data": {
            "text/plain": [
              "DataFrame[instant: int, dteday: date, season: int, yr: int, mnth: int, hr: int, holiday: int, weekday: int, workingday: int, weathersit: int, temp: double, atemp: double, hum: double, windspeed: double, casual: int, registered: int, cnt: int]"
            ]
          },
          "metadata": {},
          "execution_count": 139
        }
      ]
    },
    {
      "cell_type": "code",
      "source": [
        "df_pyspark=df_pyspark.drop('expafter2years')"
      ],
      "metadata": {
        "id": "2QftVUyxoOh6"
      },
      "execution_count": null,
      "outputs": []
    },
    {
      "cell_type": "code",
      "source": [
        "df_pyspark.show()"
      ],
      "metadata": {
        "colab": {
          "base_uri": "https://localhost:8080/"
        },
        "id": "_LSGQESyowOq",
        "outputId": "91301b8a-6e80-489e-c1cb-6c7374d2045d"
      },
      "execution_count": null,
      "outputs": [
        {
          "output_type": "stream",
          "name": "stdout",
          "text": [
            "+-------+----------+------+---+----+---+-------+-------+----------+----------+----+------+----+---------+------+----------+---+\n",
            "|instant|    dteday|season| yr|mnth| hr|holiday|weekday|workingday|weathersit|temp| atemp| hum|windspeed|casual|registered|cnt|\n",
            "+-------+----------+------+---+----+---+-------+-------+----------+----------+----+------+----+---------+------+----------+---+\n",
            "|      1|2011-01-01|     1|  0|   1|  0|      0|      6|         0|         1|0.24|0.2879|0.81|      0.0|     3|        13| 16|\n",
            "|      2|2011-01-01|     1|  0|   1|  1|      0|      6|         0|         1|0.22|0.2727| 0.8|      0.0|     8|        32| 40|\n",
            "|      3|2011-01-01|     1|  0|   1|  2|      0|      6|         0|         1|0.22|0.2727| 0.8|      0.0|     5|        27| 32|\n",
            "|      4|2011-01-01|     1|  0|   1|  3|      0|      6|         0|         1|0.24|0.2879|0.75|      0.0|     3|        10| 13|\n",
            "|      5|2011-01-01|     1|  0|   1|  4|      0|      6|         0|         1|0.24|0.2879|0.75|      0.0|     0|         1|  1|\n",
            "|      6|2011-01-01|     1|  0|   1|  5|      0|      6|         0|         2|0.24|0.2576|0.75|   0.0896|     0|         1|  1|\n",
            "|      7|2011-01-01|     1|  0|   1|  6|      0|      6|         0|         1|0.22|0.2727| 0.8|      0.0|     2|         0|  2|\n",
            "|      8|2011-01-01|     1|  0|   1|  7|      0|      6|         0|         1| 0.2|0.2576|0.86|      0.0|     1|         2|  3|\n",
            "|      9|2011-01-01|     1|  0|   1|  8|      0|      6|         0|         1|0.24|0.2879|0.75|      0.0|     1|         7|  8|\n",
            "|     10|2011-01-01|     1|  0|   1|  9|      0|      6|         0|         1|0.32|0.3485|0.76|      0.0|     8|         6| 14|\n",
            "|     11|2011-01-01|     1|  0|   1| 10|      0|      6|         0|         1|0.38|0.3939|0.76|   0.2537|    12|        24| 36|\n",
            "|     12|2011-01-01|     1|  0|   1| 11|      0|      6|         0|         1|0.36|0.3333|0.81|   0.2836|    26|        30| 56|\n",
            "|     13|2011-01-01|     1|  0|   1| 12|      0|      6|         0|         1|0.42|0.4242|0.77|   0.2836|    29|        55| 84|\n",
            "|     14|2011-01-01|     1|  0|   1| 13|      0|      6|         0|         2|0.46|0.4545|0.72|   0.2985|    47|        47| 94|\n",
            "|     15|2011-01-01|     1|  0|   1| 14|      0|      6|         0|         2|0.46|0.4545|0.72|   0.2836|    35|        71|106|\n",
            "|     16|2011-01-01|     1|  0|   1| 15|      0|      6|         0|         2|0.44|0.4394|0.77|   0.2985|    40|        70|110|\n",
            "|     17|2011-01-01|     1|  0|   1| 16|      0|      6|         0|         2|0.42|0.4242|0.82|   0.2985|    41|        52| 93|\n",
            "|     18|2011-01-01|     1|  0|   1| 17|      0|      6|         0|         2|0.44|0.4394|0.82|   0.2836|    15|        52| 67|\n",
            "|     19|2011-01-01|     1|  0|   1| 18|      0|      6|         0|         3|0.42|0.4242|0.88|   0.2537|     9|        26| 35|\n",
            "|     20|2011-01-01|     1|  0|   1| 19|      0|      6|         0|         3|0.42|0.4242|0.88|   0.2537|     6|        31| 37|\n",
            "+-------+----------+------+---+----+---+-------+-------+----------+----------+----+------+----+---------+------+----------+---+\n",
            "only showing top 20 rows\n",
            "\n"
          ]
        }
      ]
    },
    {
      "cell_type": "code",
      "source": [
        "## rename a column\n",
        "\n",
        "df_pyspark.withColumnRenamed('yr','year').show()"
      ],
      "metadata": {
        "colab": {
          "base_uri": "https://localhost:8080/"
        },
        "id": "yLDUJxospw8C",
        "outputId": "1c3bf14c-455c-4503-90fa-56fe15ca2349"
      },
      "execution_count": null,
      "outputs": [
        {
          "output_type": "stream",
          "name": "stdout",
          "text": [
            "+-------+----------+------+----+----+---+-------+-------+----------+----------+----+------+----+---------+------+----------+---+\n",
            "|instant|    dteday|season|year|mnth| hr|holiday|weekday|workingday|weathersit|temp| atemp| hum|windspeed|casual|registered|cnt|\n",
            "+-------+----------+------+----+----+---+-------+-------+----------+----------+----+------+----+---------+------+----------+---+\n",
            "|      1|2011-01-01|     1|   0|   1|  0|      0|      6|         0|         1|0.24|0.2879|0.81|      0.0|     3|        13| 16|\n",
            "|      2|2011-01-01|     1|   0|   1|  1|      0|      6|         0|         1|0.22|0.2727| 0.8|      0.0|     8|        32| 40|\n",
            "|      3|2011-01-01|     1|   0|   1|  2|      0|      6|         0|         1|0.22|0.2727| 0.8|      0.0|     5|        27| 32|\n",
            "|      4|2011-01-01|     1|   0|   1|  3|      0|      6|         0|         1|0.24|0.2879|0.75|      0.0|     3|        10| 13|\n",
            "|      5|2011-01-01|     1|   0|   1|  4|      0|      6|         0|         1|0.24|0.2879|0.75|      0.0|     0|         1|  1|\n",
            "|      6|2011-01-01|     1|   0|   1|  5|      0|      6|         0|         2|0.24|0.2576|0.75|   0.0896|     0|         1|  1|\n",
            "|      7|2011-01-01|     1|   0|   1|  6|      0|      6|         0|         1|0.22|0.2727| 0.8|      0.0|     2|         0|  2|\n",
            "|      8|2011-01-01|     1|   0|   1|  7|      0|      6|         0|         1| 0.2|0.2576|0.86|      0.0|     1|         2|  3|\n",
            "|      9|2011-01-01|     1|   0|   1|  8|      0|      6|         0|         1|0.24|0.2879|0.75|      0.0|     1|         7|  8|\n",
            "|     10|2011-01-01|     1|   0|   1|  9|      0|      6|         0|         1|0.32|0.3485|0.76|      0.0|     8|         6| 14|\n",
            "|     11|2011-01-01|     1|   0|   1| 10|      0|      6|         0|         1|0.38|0.3939|0.76|   0.2537|    12|        24| 36|\n",
            "|     12|2011-01-01|     1|   0|   1| 11|      0|      6|         0|         1|0.36|0.3333|0.81|   0.2836|    26|        30| 56|\n",
            "|     13|2011-01-01|     1|   0|   1| 12|      0|      6|         0|         1|0.42|0.4242|0.77|   0.2836|    29|        55| 84|\n",
            "|     14|2011-01-01|     1|   0|   1| 13|      0|      6|         0|         2|0.46|0.4545|0.72|   0.2985|    47|        47| 94|\n",
            "|     15|2011-01-01|     1|   0|   1| 14|      0|      6|         0|         2|0.46|0.4545|0.72|   0.2836|    35|        71|106|\n",
            "|     16|2011-01-01|     1|   0|   1| 15|      0|      6|         0|         2|0.44|0.4394|0.77|   0.2985|    40|        70|110|\n",
            "|     17|2011-01-01|     1|   0|   1| 16|      0|      6|         0|         2|0.42|0.4242|0.82|   0.2985|    41|        52| 93|\n",
            "|     18|2011-01-01|     1|   0|   1| 17|      0|      6|         0|         2|0.44|0.4394|0.82|   0.2836|    15|        52| 67|\n",
            "|     19|2011-01-01|     1|   0|   1| 18|      0|      6|         0|         3|0.42|0.4242|0.88|   0.2537|     9|        26| 35|\n",
            "|     20|2011-01-01|     1|   0|   1| 19|      0|      6|         0|         3|0.42|0.4242|0.88|   0.2537|     6|        31| 37|\n",
            "+-------+----------+------+----+----+---+-------+-------+----------+----------+----+------+----+---------+------+----------+---+\n",
            "only showing top 20 rows\n",
            "\n"
          ]
        }
      ]
    },
    {
      "cell_type": "markdown",
      "source": [
        "Filter operations"
      ],
      "metadata": {
        "id": "eu8-HJ9BqlFK"
      }
    },
    {
      "cell_type": "markdown",
      "source": [
        "droping columns, rows,\n"
      ],
      "metadata": {
        "id": "DJNmSZ5PqlB-"
      }
    },
    {
      "cell_type": "code",
      "source": [
        "from pyspark.sql import SparkSession\n",
        "spark=SparkSession.builder.appName('practice').getOrCreate()"
      ],
      "metadata": {
        "id": "YIhCnKANqm9q"
      },
      "execution_count": null,
      "outputs": []
    },
    {
      "cell_type": "code",
      "source": [
        "df_spark1=spark.read.csv('hour (2).csv',header=True,inferSchema=True)"
      ],
      "metadata": {
        "id": "eQnXEnwVqdfK"
      },
      "execution_count": null,
      "outputs": []
    },
    {
      "cell_type": "code",
      "source": [
        "df_spark1.show()"
      ],
      "metadata": {
        "colab": {
          "base_uri": "https://localhost:8080/"
        },
        "id": "FSEclnkdrPOS",
        "outputId": "7f9badf5-1b38-42e3-862b-ffe354e672c9"
      },
      "execution_count": null,
      "outputs": [
        {
          "output_type": "stream",
          "name": "stdout",
          "text": [
            "+-------+----------+------+---+----+---+-------+-------+----------+----------+----+------+----+---------+------+----------+---+\n",
            "|instant|    dteday|season| yr|mnth| hr|holiday|weekday|workingday|weathersit|temp| atemp| hum|windspeed|casual|registered|cnt|\n",
            "+-------+----------+------+---+----+---+-------+-------+----------+----------+----+------+----+---------+------+----------+---+\n",
            "|      1|2011-01-01|     1|  0|   1|  0|      0|      6|         0|         1|0.24|0.2879|0.81|      0.0|     3|        13| 16|\n",
            "|      2|2011-01-01|     1|  0|   1|  1|      0|      6|         0|         1|0.22|0.2727| 0.8|      0.0|     8|        32| 40|\n",
            "|      3|2011-01-01|     1|  0|   1|  2|      0|      6|         0|         1|0.22|0.2727| 0.8|      0.0|     5|        27| 32|\n",
            "|      4|2011-01-01|     1|  0|   1|  3|      0|      6|         0|         1|0.24|0.2879|0.75|      0.0|     3|        10| 13|\n",
            "|      5|2011-01-01|     1|  0|   1|  4|      0|      6|         0|         1|0.24|0.2879|0.75|      0.0|     0|         1|  1|\n",
            "|      6|2011-01-01|     1|  0|   1|  5|      0|      6|         0|         2|0.24|0.2576|0.75|   0.0896|     0|         1|  1|\n",
            "|      7|2011-01-01|     1|  0|   1|  6|      0|      6|         0|         1|0.22|0.2727| 0.8|      0.0|     2|         0|  2|\n",
            "|      8|2011-01-01|     1|  0|   1|  7|      0|      6|         0|         1| 0.2|0.2576|0.86|      0.0|     1|         2|  3|\n",
            "|      9|2011-01-01|     1|  0|   1|  8|      0|      6|         0|         1|0.24|0.2879|0.75|      0.0|     1|         7|  8|\n",
            "|     10|2011-01-01|     1|  0|   1|  9|      0|      6|         0|         1|0.32|0.3485|0.76|      0.0|     8|         6| 14|\n",
            "|     11|2011-01-01|     1|  0|   1| 10|      0|      6|         0|         1|0.38|0.3939|0.76|   0.2537|    12|        24| 36|\n",
            "|     12|2011-01-01|     1|  0|   1| 11|      0|      6|         0|         1|0.36|0.3333|0.81|   0.2836|    26|        30| 56|\n",
            "|     13|2011-01-01|     1|  0|   1| 12|      0|      6|         0|         1|0.42|0.4242|0.77|   0.2836|    29|        55| 84|\n",
            "|     14|2011-01-01|     1|  0|   1| 13|      0|      6|         0|         2|0.46|0.4545|0.72|   0.2985|    47|        47| 94|\n",
            "|     15|2011-01-01|     1|  0|   1| 14|      0|      6|         0|         2|0.46|0.4545|0.72|   0.2836|    35|        71|106|\n",
            "|     16|2011-01-01|     1|  0|   1| 15|      0|      6|         0|         2|0.44|0.4394|0.77|   0.2985|    40|        70|110|\n",
            "|     17|2011-01-01|     1|  0|   1| 16|      0|      6|         0|         2|0.42|0.4242|0.82|   0.2985|    41|        52| 93|\n",
            "|     18|2011-01-01|     1|  0|   1| 17|      0|      6|         0|         2|0.44|0.4394|0.82|   0.2836|    15|        52| 67|\n",
            "|     19|2011-01-01|     1|  0|   1| 18|      0|      6|         0|         3|0.42|0.4242|0.88|   0.2537|     9|        26| 35|\n",
            "|     20|2011-01-01|     1|  0|   1| 19|      0|      6|         0|         3|0.42|0.4242|0.88|   0.2537|     6|        31| 37|\n",
            "+-------+----------+------+---+----+---+-------+-------+----------+----------+----+------+----+---------+------+----------+---+\n",
            "only showing top 20 rows\n",
            "\n"
          ]
        }
      ]
    },
    {
      "cell_type": "code",
      "source": [
        "## dropping columns to make inplace need to name variable\n",
        "df_spark1=df_spark1.drop('yr')"
      ],
      "metadata": {
        "id": "Ujpjizu7rVzq"
      },
      "execution_count": null,
      "outputs": []
    },
    {
      "cell_type": "code",
      "source": [
        "#3 row deleting with nun values, by default it is assigned to 'any' make any nunvalue existin the row will be deleted\n",
        "df_spark1.na.drop().show\n",
        "\n"
      ],
      "metadata": {
        "colab": {
          "base_uri": "https://localhost:8080/",
          "height": 187
        },
        "id": "jA0H533treAq",
        "outputId": "a86dbfaa-6d6b-4157-bee6-56d5858fbc0c"
      },
      "execution_count": null,
      "outputs": [
        {
          "output_type": "execute_result",
          "data": {
            "text/plain": [
              "<bound method DataFrame.show of DataFrame[instant: int, dteday: date, season: int, mnth: int, hr: int, holiday: int, weekday: int, workingday: int, weathersit: int, temp: double, atemp: double, hum: double, windspeed: double, casual: int, registered: int, cnt: int]>"
            ],
            "text/html": [
              "<div style=\"max-width:800px; border: 1px solid var(--colab-border-color);\"><style>\n",
              "      pre.function-repr-contents {\n",
              "        overflow-x: auto;\n",
              "        padding: 8px 12px;\n",
              "        max-height: 500px;\n",
              "      }\n",
              "\n",
              "      pre.function-repr-contents.function-repr-contents-collapsed {\n",
              "        cursor: pointer;\n",
              "        max-height: 100px;\n",
              "      }\n",
              "    </style>\n",
              "    <pre style=\"white-space: initial; background:\n",
              "         var(--colab-secondary-surface-color); padding: 8px 12px;\n",
              "         border-bottom: 1px solid var(--colab-border-color);\"><b>pyspark.sql.dataframe.DataFrame.show</b><br/>def show(n: int=20, truncate: Union[bool, int]=True, vertical: bool=False) -&gt; None</pre><pre class=\"function-repr-contents function-repr-contents-collapsed\" style=\"\"><a class=\"filepath\" style=\"display:none\" href=\"#\">/usr/local/lib/python3.10/dist-packages/pyspark/sql/dataframe.py</a>Prints the first ``n`` rows to the console.\n",
              "\n",
              ".. versionadded:: 1.3.0\n",
              "\n",
              ".. versionchanged:: 3.4.0\n",
              "    Supports Spark Connect.\n",
              "\n",
              "Parameters\n",
              "----------\n",
              "n : int, optional\n",
              "    Number of rows to show.\n",
              "truncate : bool or int, optional\n",
              "    If set to ``True``, truncate strings longer than 20 chars by default.\n",
              "    If set to a number greater than one, truncates long strings to length ``truncate``\n",
              "    and align cells right.\n",
              "vertical : bool, optional\n",
              "    If set to ``True``, print output rows vertically (one line\n",
              "    per column value).\n",
              "\n",
              "Examples\n",
              "--------\n",
              "&gt;&gt;&gt; df = spark.createDataFrame([\n",
              "...     (14, &quot;Tom&quot;), (23, &quot;Alice&quot;), (16, &quot;Bob&quot;)], [&quot;age&quot;, &quot;name&quot;])\n",
              "\n",
              "Show only top 2 rows.\n",
              "\n",
              "&gt;&gt;&gt; df.show(2)\n",
              "+---+-----+\n",
              "|age| name|\n",
              "+---+-----+\n",
              "| 14|  Tom|\n",
              "| 23|Alice|\n",
              "+---+-----+\n",
              "only showing top 2 rows\n",
              "\n",
              "Show :class:`DataFrame` where the maximum number of characters is 3.\n",
              "\n",
              "&gt;&gt;&gt; df.show(truncate=3)\n",
              "+---+----+\n",
              "|age|name|\n",
              "+---+----+\n",
              "| 14| Tom|\n",
              "| 23| Ali|\n",
              "| 16| Bob|\n",
              "+---+----+\n",
              "\n",
              "Show :class:`DataFrame` vertically.\n",
              "\n",
              "&gt;&gt;&gt; df.show(vertical=True)\n",
              "-RECORD 0-----\n",
              "age  | 14\n",
              "name | Tom\n",
              "-RECORD 1-----\n",
              "age  | 23\n",
              "name | Alice\n",
              "-RECORD 2-----\n",
              "age  | 16\n",
              "name | Bob</pre>\n",
              "      <script>\n",
              "      if (google.colab.kernel.accessAllowed && google.colab.files && google.colab.files.view) {\n",
              "        for (const element of document.querySelectorAll('.filepath')) {\n",
              "          element.style.display = 'block'\n",
              "          element.onclick = (event) => {\n",
              "            event.preventDefault();\n",
              "            event.stopPropagation();\n",
              "            google.colab.files.view(element.textContent, 885);\n",
              "          };\n",
              "        }\n",
              "      }\n",
              "      for (const element of document.querySelectorAll('.function-repr-contents')) {\n",
              "        element.onclick = (event) => {\n",
              "          event.preventDefault();\n",
              "          event.stopPropagation();\n",
              "          element.classList.toggle('function-repr-contents-collapsed');\n",
              "        };\n",
              "      }\n",
              "      </script>\n",
              "      </div>"
            ]
          },
          "metadata": {},
          "execution_count": 42
        }
      ]
    },
    {
      "cell_type": "code",
      "source": [
        "## any==how 'all' means if the all row is null will  be deleted\n",
        "df_spark1.na.drop(how='all')"
      ],
      "metadata": {
        "colab": {
          "base_uri": "https://localhost:8080/"
        },
        "id": "FOvvx-qZr03L",
        "outputId": "0fca7182-2de3-407e-fe9f-4c207eb49841"
      },
      "execution_count": null,
      "outputs": [
        {
          "output_type": "execute_result",
          "data": {
            "text/plain": [
              "DataFrame[instant: int, dteday: date, season: int, mnth: int, hr: int, holiday: int, weekday: int, workingday: int, weathersit: int, temp: double, atemp: double, hum: double, windspeed: double, casual: int, registered: int, cnt: int]"
            ]
          },
          "metadata": {},
          "execution_count": 43
        }
      ]
    },
    {
      "cell_type": "code",
      "source": [
        "##threshould make the threshoul for if there is min nonvalues exist will keep\n",
        "df_spark1.na.drop(how='any',thresh=2)\n"
      ],
      "metadata": {
        "colab": {
          "base_uri": "https://localhost:8080/"
        },
        "id": "X2ai94ywsoZp",
        "outputId": "228f2d50-95a5-49c6-926e-ae4de4e49d6d"
      },
      "execution_count": null,
      "outputs": [
        {
          "output_type": "execute_result",
          "data": {
            "text/plain": [
              "DataFrame[instant: int, dteday: date, season: int, mnth: int, hr: int, holiday: int, weekday: int, workingday: int, weathersit: int, temp: double, atemp: double, hum: double, windspeed: double, casual: int, registered: int, cnt: int]"
            ]
          },
          "metadata": {},
          "execution_count": 158
        }
      ]
    },
    {
      "cell_type": "code",
      "source": [
        "df_pyspark.na.drop(how='any',subset=['yr'])"
      ],
      "metadata": {
        "colab": {
          "base_uri": "https://localhost:8080/"
        },
        "id": "mTs8DyUhsoWh",
        "outputId": "56946726-f2f6-4a3b-85a2-a29c9ad47806"
      },
      "execution_count": null,
      "outputs": [
        {
          "output_type": "execute_result",
          "data": {
            "text/plain": [
              "DataFrame[instant: int, dteday: date, season: int, yr: int, mnth: int, hr: int, holiday: int, weekday: int, workingday: int, weathersit: int, temp: double, atemp: double, hum: double, windspeed: double, casual: int, registered: int, cnt: int, expafter2years: int]"
            ]
          },
          "metadata": {},
          "execution_count": 160
        }
      ]
    },
    {
      "cell_type": "code",
      "source": [
        "## filling missing value\n",
        "\n",
        "df_spark1.na.fill('Missing Values','season').show()"
      ],
      "metadata": {
        "colab": {
          "base_uri": "https://localhost:8080/"
        },
        "id": "0tSWJGy6xHxR",
        "outputId": "e3ceadb9-c803-460a-83fb-a35dc03bd563"
      },
      "execution_count": null,
      "outputs": [
        {
          "output_type": "stream",
          "name": "stdout",
          "text": [
            "+-------+----------+------+----+---+-------+-------+----------+----------+----+------+----+---------+------+----------+---+\n",
            "|instant|    dteday|season|mnth| hr|holiday|weekday|workingday|weathersit|temp| atemp| hum|windspeed|casual|registered|cnt|\n",
            "+-------+----------+------+----+---+-------+-------+----------+----------+----+------+----+---------+------+----------+---+\n",
            "|      1|2011-01-01|     1|   1|  0|      0|      6|         0|         1|0.24|0.2879|0.81|      0.0|     3|        13| 16|\n",
            "|      2|2011-01-01|     1|   1|  1|      0|      6|         0|         1|0.22|0.2727| 0.8|      0.0|     8|        32| 40|\n",
            "|      3|2011-01-01|     1|   1|  2|      0|      6|         0|         1|0.22|0.2727| 0.8|      0.0|     5|        27| 32|\n",
            "|      4|2011-01-01|     1|   1|  3|      0|      6|         0|         1|0.24|0.2879|0.75|      0.0|     3|        10| 13|\n",
            "|      5|2011-01-01|     1|   1|  4|      0|      6|         0|         1|0.24|0.2879|0.75|      0.0|     0|         1|  1|\n",
            "|      6|2011-01-01|     1|   1|  5|      0|      6|         0|         2|0.24|0.2576|0.75|   0.0896|     0|         1|  1|\n",
            "|      7|2011-01-01|     1|   1|  6|      0|      6|         0|         1|0.22|0.2727| 0.8|      0.0|     2|         0|  2|\n",
            "|      8|2011-01-01|     1|   1|  7|      0|      6|         0|         1| 0.2|0.2576|0.86|      0.0|     1|         2|  3|\n",
            "|      9|2011-01-01|     1|   1|  8|      0|      6|         0|         1|0.24|0.2879|0.75|      0.0|     1|         7|  8|\n",
            "|     10|2011-01-01|     1|   1|  9|      0|      6|         0|         1|0.32|0.3485|0.76|      0.0|     8|         6| 14|\n",
            "|     11|2011-01-01|     1|   1| 10|      0|      6|         0|         1|0.38|0.3939|0.76|   0.2537|    12|        24| 36|\n",
            "|     12|2011-01-01|     1|   1| 11|      0|      6|         0|         1|0.36|0.3333|0.81|   0.2836|    26|        30| 56|\n",
            "|     13|2011-01-01|     1|   1| 12|      0|      6|         0|         1|0.42|0.4242|0.77|   0.2836|    29|        55| 84|\n",
            "|     14|2011-01-01|     1|   1| 13|      0|      6|         0|         2|0.46|0.4545|0.72|   0.2985|    47|        47| 94|\n",
            "|     15|2011-01-01|     1|   1| 14|      0|      6|         0|         2|0.46|0.4545|0.72|   0.2836|    35|        71|106|\n",
            "|     16|2011-01-01|     1|   1| 15|      0|      6|         0|         2|0.44|0.4394|0.77|   0.2985|    40|        70|110|\n",
            "|     17|2011-01-01|     1|   1| 16|      0|      6|         0|         2|0.42|0.4242|0.82|   0.2985|    41|        52| 93|\n",
            "|     18|2011-01-01|     1|   1| 17|      0|      6|         0|         2|0.44|0.4394|0.82|   0.2836|    15|        52| 67|\n",
            "|     19|2011-01-01|     1|   1| 18|      0|      6|         0|         3|0.42|0.4242|0.88|   0.2537|     9|        26| 35|\n",
            "|     20|2011-01-01|     1|   1| 19|      0|      6|         0|         3|0.42|0.4242|0.88|   0.2537|     6|        31| 37|\n",
            "+-------+----------+------+----+---+-------+-------+----------+----------+----+------+----+---------+------+----------+---+\n",
            "only showing top 20 rows\n",
            "\n"
          ]
        }
      ]
    },
    {
      "cell_type": "code",
      "source": [
        "from pyspark.ml.feature import Imputer"
      ],
      "metadata": {
        "id": "kuJ8B76HxQ6L"
      },
      "execution_count": null,
      "outputs": []
    },
    {
      "cell_type": "code",
      "source": [
        "imputer=Imputer(\n",
        "    inputCols=['season','mnth'],\n",
        "    outputCols=['{}_imputed'.format(c) for c in ['season','mnth']]).setStrategy('mean')\n"
      ],
      "metadata": {
        "id": "5k5alG1FxQ3H"
      },
      "execution_count": null,
      "outputs": []
    },
    {
      "cell_type": "code",
      "source": [
        "#add imputation cols to df\n",
        "imputer.fit(df_spark1).transform(df_pyspark).show()"
      ],
      "metadata": {
        "colab": {
          "base_uri": "https://localhost:8080/"
        },
        "id": "Bf7e9ONyxQzW",
        "outputId": "5eae9d1e-42a4-45f6-99ee-5a7d566d97b2"
      },
      "execution_count": null,
      "outputs": [
        {
          "output_type": "stream",
          "name": "stdout",
          "text": [
            "+-------+----------+------+---+----+---+-------+-------+----------+----------+----+------+----+---------+------+----------+---+--------------+------------+\n",
            "|instant|    dteday|season| yr|mnth| hr|holiday|weekday|workingday|weathersit|temp| atemp| hum|windspeed|casual|registered|cnt|season_imputed|mnth_imputed|\n",
            "+-------+----------+------+---+----+---+-------+-------+----------+----------+----+------+----+---------+------+----------+---+--------------+------------+\n",
            "|      1|2011-01-01|     1|  0|   1|  0|      0|      6|         0|         1|0.24|0.2879|0.81|      0.0|     3|        13| 16|             1|           1|\n",
            "|      2|2011-01-01|     1|  0|   1|  1|      0|      6|         0|         1|0.22|0.2727| 0.8|      0.0|     8|        32| 40|             1|           1|\n",
            "|      3|2011-01-01|     1|  0|   1|  2|      0|      6|         0|         1|0.22|0.2727| 0.8|      0.0|     5|        27| 32|             1|           1|\n",
            "|      4|2011-01-01|     1|  0|   1|  3|      0|      6|         0|         1|0.24|0.2879|0.75|      0.0|     3|        10| 13|             1|           1|\n",
            "|      5|2011-01-01|     1|  0|   1|  4|      0|      6|         0|         1|0.24|0.2879|0.75|      0.0|     0|         1|  1|             1|           1|\n",
            "|      6|2011-01-01|     1|  0|   1|  5|      0|      6|         0|         2|0.24|0.2576|0.75|   0.0896|     0|         1|  1|             1|           1|\n",
            "|      7|2011-01-01|     1|  0|   1|  6|      0|      6|         0|         1|0.22|0.2727| 0.8|      0.0|     2|         0|  2|             1|           1|\n",
            "|      8|2011-01-01|     1|  0|   1|  7|      0|      6|         0|         1| 0.2|0.2576|0.86|      0.0|     1|         2|  3|             1|           1|\n",
            "|      9|2011-01-01|     1|  0|   1|  8|      0|      6|         0|         1|0.24|0.2879|0.75|      0.0|     1|         7|  8|             1|           1|\n",
            "|     10|2011-01-01|     1|  0|   1|  9|      0|      6|         0|         1|0.32|0.3485|0.76|      0.0|     8|         6| 14|             1|           1|\n",
            "|     11|2011-01-01|     1|  0|   1| 10|      0|      6|         0|         1|0.38|0.3939|0.76|   0.2537|    12|        24| 36|             1|           1|\n",
            "|     12|2011-01-01|     1|  0|   1| 11|      0|      6|         0|         1|0.36|0.3333|0.81|   0.2836|    26|        30| 56|             1|           1|\n",
            "|     13|2011-01-01|     1|  0|   1| 12|      0|      6|         0|         1|0.42|0.4242|0.77|   0.2836|    29|        55| 84|             1|           1|\n",
            "|     14|2011-01-01|     1|  0|   1| 13|      0|      6|         0|         2|0.46|0.4545|0.72|   0.2985|    47|        47| 94|             1|           1|\n",
            "|     15|2011-01-01|     1|  0|   1| 14|      0|      6|         0|         2|0.46|0.4545|0.72|   0.2836|    35|        71|106|             1|           1|\n",
            "|     16|2011-01-01|     1|  0|   1| 15|      0|      6|         0|         2|0.44|0.4394|0.77|   0.2985|    40|        70|110|             1|           1|\n",
            "|     17|2011-01-01|     1|  0|   1| 16|      0|      6|         0|         2|0.42|0.4242|0.82|   0.2985|    41|        52| 93|             1|           1|\n",
            "|     18|2011-01-01|     1|  0|   1| 17|      0|      6|         0|         2|0.44|0.4394|0.82|   0.2836|    15|        52| 67|             1|           1|\n",
            "|     19|2011-01-01|     1|  0|   1| 18|      0|      6|         0|         3|0.42|0.4242|0.88|   0.2537|     9|        26| 35|             1|           1|\n",
            "|     20|2011-01-01|     1|  0|   1| 19|      0|      6|         0|         3|0.42|0.4242|0.88|   0.2537|     6|        31| 37|             1|           1|\n",
            "+-------+----------+------+---+----+---+-------+-------+----------+----------+----+------+----+---------+------+----------+---+--------------+------------+\n",
            "only showing top 20 rows\n",
            "\n"
          ]
        }
      ]
    },
    {
      "cell_type": "markdown",
      "source": [
        "filter operations in pyspark"
      ],
      "metadata": {
        "id": "qguCXvmlza59"
      }
    },
    {
      "cell_type": "code",
      "source": [
        "spark=SparkSession.builder.appName('data').getOrCreate()"
      ],
      "metadata": {
        "id": "qWTjEs3SxQt0"
      },
      "execution_count": null,
      "outputs": []
    },
    {
      "cell_type": "code",
      "source": [
        "df_sal=spark.read.csv('practice.csv',header=True,inferSchema=True)"
      ],
      "metadata": {
        "id": "HOLvbDI8xQqC"
      },
      "execution_count": null,
      "outputs": []
    },
    {
      "cell_type": "code",
      "source": [
        "df_sal"
      ],
      "metadata": {
        "colab": {
          "base_uri": "https://localhost:8080/"
        },
        "id": "m31iV0qzxQmO",
        "outputId": "be68e5bb-651b-43a2-805c-3e601edfe2f1"
      },
      "execution_count": null,
      "outputs": [
        {
          "output_type": "execute_result",
          "data": {
            "text/plain": [
              "DataFrame[_c0: string, colum1: int, colum2: int, colum3: int]"
            ]
          },
          "metadata": {},
          "execution_count": 51
        }
      ]
    },
    {
      "cell_type": "code",
      "source": [
        "spark2=SparkSession.builder.appName('practice2').getOrCreate()"
      ],
      "metadata": {
        "id": "4Nxsh2NkxQfZ"
      },
      "execution_count": null,
      "outputs": []
    },
    {
      "cell_type": "code",
      "source": [
        "df=spark.read.csv('practice.csv',header=True,inferSchema=True)"
      ],
      "metadata": {
        "id": "h3eN8ofX1f2W"
      },
      "execution_count": null,
      "outputs": []
    },
    {
      "cell_type": "code",
      "source": [
        "df.show()"
      ],
      "metadata": {
        "colab": {
          "base_uri": "https://localhost:8080/"
        },
        "id": "FiivFUK9d26y",
        "outputId": "903e5893-89ca-4833-83e2-be582d210907"
      },
      "execution_count": null,
      "outputs": [
        {
          "output_type": "stream",
          "name": "stdout",
          "text": [
            "+---+------+------+------+\n",
            "|_c0|colum1|colum2|colum3|\n",
            "+---+------+------+------+\n",
            "|  a|    30|     2| 20000|\n",
            "|  b|    25|     3| 25000|\n",
            "|  c|    33|     7| 45000|\n",
            "|  d|    19|     1| 26500|\n",
            "|  e|    22|     3| 33000|\n",
            "|  f|    40|     8| 45000|\n",
            "|  g|    50|     9| 50000|\n",
            "|  h|    45|     9| 44000|\n",
            "+---+------+------+------+\n",
            "\n"
          ]
        }
      ]
    },
    {
      "cell_type": "code",
      "source": [
        "df.filter('colum1>3').show()"
      ],
      "metadata": {
        "colab": {
          "base_uri": "https://localhost:8080/"
        },
        "id": "aC4rnh8_2ALa",
        "outputId": "7253bc2a-769d-4c0c-a5ee-6ee368eea2d4"
      },
      "execution_count": null,
      "outputs": [
        {
          "output_type": "stream",
          "name": "stdout",
          "text": [
            "+---+------+------+------+\n",
            "|_c0|colum1|colum2|colum3|\n",
            "+---+------+------+------+\n",
            "|  a|    30|     2| 20000|\n",
            "|  b|    25|     3| 25000|\n",
            "|  c|    33|     7| 45000|\n",
            "|  d|    19|     1| 26500|\n",
            "|  e|    22|     3| 33000|\n",
            "|  f|    40|     8| 45000|\n",
            "|  g|    50|     9| 50000|\n",
            "|  h|    45|     9| 44000|\n",
            "+---+------+------+------+\n",
            "\n"
          ]
        }
      ]
    },
    {
      "cell_type": "code",
      "source": [
        "spark3=SparkSession.builder.appName('practice4').getOrCreate()"
      ],
      "metadata": {
        "id": "xT42LdypeB7V"
      },
      "execution_count": null,
      "outputs": []
    },
    {
      "cell_type": "code",
      "source": [
        "df=spark3.read.csv('hour (2).csv',header=True,inferSchema=True)"
      ],
      "metadata": {
        "id": "KI63PQbNeR8d"
      },
      "execution_count": null,
      "outputs": []
    },
    {
      "cell_type": "code",
      "source": [
        "df.filter('weekday>3').select(['instant','yr','temp']).show()"
      ],
      "metadata": {
        "colab": {
          "base_uri": "https://localhost:8080/"
        },
        "id": "eTtTv6h72FCm",
        "outputId": "1c9b2289-eb61-49c8-9881-67c47b9bff58"
      },
      "execution_count": null,
      "outputs": [
        {
          "output_type": "stream",
          "name": "stdout",
          "text": [
            "+-------+---+----+\n",
            "|instant| yr|temp|\n",
            "+-------+---+----+\n",
            "|      1|  0|0.24|\n",
            "|      2|  0|0.22|\n",
            "|      3|  0|0.22|\n",
            "|      4|  0|0.24|\n",
            "|      5|  0|0.24|\n",
            "|      6|  0|0.24|\n",
            "|      7|  0|0.22|\n",
            "|      8|  0| 0.2|\n",
            "|      9|  0|0.24|\n",
            "|     10|  0|0.32|\n",
            "|     11|  0|0.38|\n",
            "|     12|  0|0.36|\n",
            "|     13|  0|0.42|\n",
            "|     14|  0|0.46|\n",
            "|     15|  0|0.46|\n",
            "|     16|  0|0.44|\n",
            "|     17|  0|0.42|\n",
            "|     18|  0|0.44|\n",
            "|     19|  0|0.42|\n",
            "|     20|  0|0.42|\n",
            "+-------+---+----+\n",
            "only showing top 20 rows\n",
            "\n"
          ]
        }
      ]
    },
    {
      "cell_type": "code",
      "source": [
        "df.filter(df['weekday']>3).show()"
      ],
      "metadata": {
        "colab": {
          "base_uri": "https://localhost:8080/"
        },
        "id": "zJCr1GGL2dw-",
        "outputId": "927b9658-efc2-4256-ab38-5d98af845ec5"
      },
      "execution_count": null,
      "outputs": [
        {
          "output_type": "stream",
          "name": "stdout",
          "text": [
            "+-------+----------+------+---+----+---+-------+-------+----------+----------+----+------+----+---------+------+----------+---+\n",
            "|instant|    dteday|season| yr|mnth| hr|holiday|weekday|workingday|weathersit|temp| atemp| hum|windspeed|casual|registered|cnt|\n",
            "+-------+----------+------+---+----+---+-------+-------+----------+----------+----+------+----+---------+------+----------+---+\n",
            "|      1|2011-01-01|     1|  0|   1|  0|      0|      6|         0|         1|0.24|0.2879|0.81|      0.0|     3|        13| 16|\n",
            "|      2|2011-01-01|     1|  0|   1|  1|      0|      6|         0|         1|0.22|0.2727| 0.8|      0.0|     8|        32| 40|\n",
            "|      3|2011-01-01|     1|  0|   1|  2|      0|      6|         0|         1|0.22|0.2727| 0.8|      0.0|     5|        27| 32|\n",
            "|      4|2011-01-01|     1|  0|   1|  3|      0|      6|         0|         1|0.24|0.2879|0.75|      0.0|     3|        10| 13|\n",
            "|      5|2011-01-01|     1|  0|   1|  4|      0|      6|         0|         1|0.24|0.2879|0.75|      0.0|     0|         1|  1|\n",
            "|      6|2011-01-01|     1|  0|   1|  5|      0|      6|         0|         2|0.24|0.2576|0.75|   0.0896|     0|         1|  1|\n",
            "|      7|2011-01-01|     1|  0|   1|  6|      0|      6|         0|         1|0.22|0.2727| 0.8|      0.0|     2|         0|  2|\n",
            "|      8|2011-01-01|     1|  0|   1|  7|      0|      6|         0|         1| 0.2|0.2576|0.86|      0.0|     1|         2|  3|\n",
            "|      9|2011-01-01|     1|  0|   1|  8|      0|      6|         0|         1|0.24|0.2879|0.75|      0.0|     1|         7|  8|\n",
            "|     10|2011-01-01|     1|  0|   1|  9|      0|      6|         0|         1|0.32|0.3485|0.76|      0.0|     8|         6| 14|\n",
            "|     11|2011-01-01|     1|  0|   1| 10|      0|      6|         0|         1|0.38|0.3939|0.76|   0.2537|    12|        24| 36|\n",
            "|     12|2011-01-01|     1|  0|   1| 11|      0|      6|         0|         1|0.36|0.3333|0.81|   0.2836|    26|        30| 56|\n",
            "|     13|2011-01-01|     1|  0|   1| 12|      0|      6|         0|         1|0.42|0.4242|0.77|   0.2836|    29|        55| 84|\n",
            "|     14|2011-01-01|     1|  0|   1| 13|      0|      6|         0|         2|0.46|0.4545|0.72|   0.2985|    47|        47| 94|\n",
            "|     15|2011-01-01|     1|  0|   1| 14|      0|      6|         0|         2|0.46|0.4545|0.72|   0.2836|    35|        71|106|\n",
            "|     16|2011-01-01|     1|  0|   1| 15|      0|      6|         0|         2|0.44|0.4394|0.77|   0.2985|    40|        70|110|\n",
            "|     17|2011-01-01|     1|  0|   1| 16|      0|      6|         0|         2|0.42|0.4242|0.82|   0.2985|    41|        52| 93|\n",
            "|     18|2011-01-01|     1|  0|   1| 17|      0|      6|         0|         2|0.44|0.4394|0.82|   0.2836|    15|        52| 67|\n",
            "|     19|2011-01-01|     1|  0|   1| 18|      0|      6|         0|         3|0.42|0.4242|0.88|   0.2537|     9|        26| 35|\n",
            "|     20|2011-01-01|     1|  0|   1| 19|      0|      6|         0|         3|0.42|0.4242|0.88|   0.2537|     6|        31| 37|\n",
            "+-------+----------+------+---+----+---+-------+-------+----------+----------+----+------+----+---------+------+----------+---+\n",
            "only showing top 20 rows\n",
            "\n"
          ]
        }
      ]
    },
    {
      "cell_type": "code",
      "source": [
        "df.filter(df['weekday']>3).show()"
      ],
      "metadata": {
        "colab": {
          "base_uri": "https://localhost:8080/"
        },
        "id": "Fj54ZCzM2v6G",
        "outputId": "f7f2638b-c4bd-448b-cc26-10d802bc4e74"
      },
      "execution_count": null,
      "outputs": [
        {
          "output_type": "stream",
          "name": "stdout",
          "text": [
            "+-------+----------+------+---+----+---+-------+-------+----------+----------+----+------+----+---------+------+----------+---+\n",
            "|instant|    dteday|season| yr|mnth| hr|holiday|weekday|workingday|weathersit|temp| atemp| hum|windspeed|casual|registered|cnt|\n",
            "+-------+----------+------+---+----+---+-------+-------+----------+----------+----+------+----+---------+------+----------+---+\n",
            "|      1|2011-01-01|     1|  0|   1|  0|      0|      6|         0|         1|0.24|0.2879|0.81|      0.0|     3|        13| 16|\n",
            "|      2|2011-01-01|     1|  0|   1|  1|      0|      6|         0|         1|0.22|0.2727| 0.8|      0.0|     8|        32| 40|\n",
            "|      3|2011-01-01|     1|  0|   1|  2|      0|      6|         0|         1|0.22|0.2727| 0.8|      0.0|     5|        27| 32|\n",
            "|      4|2011-01-01|     1|  0|   1|  3|      0|      6|         0|         1|0.24|0.2879|0.75|      0.0|     3|        10| 13|\n",
            "|      5|2011-01-01|     1|  0|   1|  4|      0|      6|         0|         1|0.24|0.2879|0.75|      0.0|     0|         1|  1|\n",
            "|      6|2011-01-01|     1|  0|   1|  5|      0|      6|         0|         2|0.24|0.2576|0.75|   0.0896|     0|         1|  1|\n",
            "|      7|2011-01-01|     1|  0|   1|  6|      0|      6|         0|         1|0.22|0.2727| 0.8|      0.0|     2|         0|  2|\n",
            "|      8|2011-01-01|     1|  0|   1|  7|      0|      6|         0|         1| 0.2|0.2576|0.86|      0.0|     1|         2|  3|\n",
            "|      9|2011-01-01|     1|  0|   1|  8|      0|      6|         0|         1|0.24|0.2879|0.75|      0.0|     1|         7|  8|\n",
            "|     10|2011-01-01|     1|  0|   1|  9|      0|      6|         0|         1|0.32|0.3485|0.76|      0.0|     8|         6| 14|\n",
            "|     11|2011-01-01|     1|  0|   1| 10|      0|      6|         0|         1|0.38|0.3939|0.76|   0.2537|    12|        24| 36|\n",
            "|     12|2011-01-01|     1|  0|   1| 11|      0|      6|         0|         1|0.36|0.3333|0.81|   0.2836|    26|        30| 56|\n",
            "|     13|2011-01-01|     1|  0|   1| 12|      0|      6|         0|         1|0.42|0.4242|0.77|   0.2836|    29|        55| 84|\n",
            "|     14|2011-01-01|     1|  0|   1| 13|      0|      6|         0|         2|0.46|0.4545|0.72|   0.2985|    47|        47| 94|\n",
            "|     15|2011-01-01|     1|  0|   1| 14|      0|      6|         0|         2|0.46|0.4545|0.72|   0.2836|    35|        71|106|\n",
            "|     16|2011-01-01|     1|  0|   1| 15|      0|      6|         0|         2|0.44|0.4394|0.77|   0.2985|    40|        70|110|\n",
            "|     17|2011-01-01|     1|  0|   1| 16|      0|      6|         0|         2|0.42|0.4242|0.82|   0.2985|    41|        52| 93|\n",
            "|     18|2011-01-01|     1|  0|   1| 17|      0|      6|         0|         2|0.44|0.4394|0.82|   0.2836|    15|        52| 67|\n",
            "|     19|2011-01-01|     1|  0|   1| 18|      0|      6|         0|         3|0.42|0.4242|0.88|   0.2537|     9|        26| 35|\n",
            "|     20|2011-01-01|     1|  0|   1| 19|      0|      6|         0|         3|0.42|0.4242|0.88|   0.2537|     6|        31| 37|\n",
            "+-------+----------+------+---+----+---+-------+-------+----------+----------+----+------+----+---------+------+----------+---+\n",
            "only showing top 20 rows\n",
            "\n"
          ]
        }
      ]
    },
    {
      "cell_type": "code",
      "source": [
        "df.filter((df['weekday'] >= 3) & (df['weekday'] <= 5)).show()\n"
      ],
      "metadata": {
        "colab": {
          "base_uri": "https://localhost:8080/"
        },
        "id": "VRkWQ6BY26hW",
        "outputId": "12c5e1d0-fb82-4109-ee6a-9f4629ebd5c9"
      },
      "execution_count": null,
      "outputs": [
        {
          "output_type": "stream",
          "name": "stdout",
          "text": [
            "+-------+----------+------+---+----+---+-------+-------+----------+----------+----+------+----+---------+------+----------+---+\n",
            "|instant|    dteday|season| yr|mnth| hr|holiday|weekday|workingday|weathersit|temp| atemp| hum|windspeed|casual|registered|cnt|\n",
            "+-------+----------+------+---+----+---+-------+-------+----------+----------+----+------+----+---------+------+----------+---+\n",
            "|     93|2011-01-05|     1|  0|   1|  0|      0|      3|         1|         1| 0.2|0.2576|0.64|      0.0|     0|         6|  6|\n",
            "|     94|2011-01-05|     1|  0|   1|  1|      0|      3|         1|         1|0.16| 0.197|0.74|   0.0896|     0|         6|  6|\n",
            "|     95|2011-01-05|     1|  0|   1|  2|      0|      3|         1|         1|0.16| 0.197|0.74|   0.0896|     0|         2|  2|\n",
            "|     96|2011-01-05|     1|  0|   1|  4|      0|      3|         1|         1|0.24|0.2273|0.48|   0.2239|     0|         2|  2|\n",
            "|     97|2011-01-05|     1|  0|   1|  5|      0|      3|         1|         1|0.22|0.2273|0.47|   0.1642|     0|         3|  3|\n",
            "|     98|2011-01-05|     1|  0|   1|  6|      0|      3|         1|         1| 0.2| 0.197|0.47|   0.2239|     0|        33| 33|\n",
            "|     99|2011-01-05|     1|  0|   1|  7|      0|      3|         1|         1|0.18|0.1818|0.43|    0.194|     1|        87| 88|\n",
            "|    100|2011-01-05|     1|  0|   1|  8|      0|      3|         1|         1| 0.2|0.1818| 0.4|   0.2985|     3|       192|195|\n",
            "|    101|2011-01-05|     1|  0|   1|  9|      0|      3|         1|         1|0.22| 0.197|0.37|   0.3284|     6|       109|115|\n",
            "|    102|2011-01-05|     1|  0|   1| 10|      0|      3|         1|         1|0.22| 0.197|0.37|   0.3284|     4|        53| 57|\n",
            "|    103|2011-01-05|     1|  0|   1| 11|      0|      3|         1|         1|0.26|0.2273|0.33|   0.3284|    12|        34| 46|\n",
            "|    104|2011-01-05|     1|  0|   1| 12|      0|      3|         1|         1|0.26|0.2273|0.33|   0.3284|     5|        74| 79|\n",
            "|    105|2011-01-05|     1|  0|   1| 13|      0|      3|         1|         1|0.28|0.2576| 0.3|   0.2985|     6|        65| 71|\n",
            "|    106|2011-01-05|     1|  0|   1| 14|      0|      3|         1|         1| 0.3|0.2879|0.28|    0.194|    10|        52| 62|\n",
            "|    107|2011-01-05|     1|  0|   1| 15|      0|      3|         1|         1| 0.3|0.2879|0.28|    0.194|     7|        55| 62|\n",
            "|    108|2011-01-05|     1|  0|   1| 16|      0|      3|         1|         1| 0.3|0.3182|0.28|   0.0896|     4|        85| 89|\n",
            "|    109|2011-01-05|     1|  0|   1| 17|      0|      3|         1|         1|0.24|0.2273|0.38|    0.194|     4|       186|190|\n",
            "|    110|2011-01-05|     1|  0|   1| 18|      0|      3|         1|         1|0.24|0.2424|0.38|   0.1343|     3|       166|169|\n",
            "|    111|2011-01-05|     1|  0|   1| 19|      0|      3|         1|         1|0.24|0.2576|0.38|   0.1045|     5|       127|132|\n",
            "|    112|2011-01-05|     1|  0|   1| 20|      0|      3|         1|         1|0.22|0.2273|0.47|   0.1642|     7|        82| 89|\n",
            "+-------+----------+------+---+----+---+-------+-------+----------+----------+----+------+----+---------+------+----------+---+\n",
            "only showing top 20 rows\n",
            "\n"
          ]
        }
      ]
    },
    {
      "cell_type": "code",
      "source": [
        "df.filter(~(df['weekday'] >= 3) & (df['weekday'] <= 5)).show()"
      ],
      "metadata": {
        "colab": {
          "base_uri": "https://localhost:8080/"
        },
        "id": "-6TGwvkR4dms",
        "outputId": "1145a312-66e8-421a-e4fe-c6a810530f0e"
      },
      "execution_count": null,
      "outputs": [
        {
          "output_type": "stream",
          "name": "stdout",
          "text": [
            "+-------+----------+------+---+----+---+-------+-------+----------+----------+----+------+----+---------+------+----------+---+\n",
            "|instant|    dteday|season| yr|mnth| hr|holiday|weekday|workingday|weathersit|temp| atemp| hum|windspeed|casual|registered|cnt|\n",
            "+-------+----------+------+---+----+---+-------+-------+----------+----------+----+------+----+---------+------+----------+---+\n",
            "|     25|2011-01-02|     1|  0|   1|  0|      0|      0|         0|         2|0.46|0.4545|0.88|   0.2985|     4|        13| 17|\n",
            "|     26|2011-01-02|     1|  0|   1|  1|      0|      0|         0|         2|0.44|0.4394|0.94|   0.2537|     1|        16| 17|\n",
            "|     27|2011-01-02|     1|  0|   1|  2|      0|      0|         0|         2|0.42|0.4242| 1.0|   0.2836|     1|         8|  9|\n",
            "|     28|2011-01-02|     1|  0|   1|  3|      0|      0|         0|         2|0.46|0.4545|0.94|    0.194|     2|         4|  6|\n",
            "|     29|2011-01-02|     1|  0|   1|  4|      0|      0|         0|         2|0.46|0.4545|0.94|    0.194|     2|         1|  3|\n",
            "|     30|2011-01-02|     1|  0|   1|  6|      0|      0|         0|         3|0.42|0.4242|0.77|   0.2985|     0|         2|  2|\n",
            "|     31|2011-01-02|     1|  0|   1|  7|      0|      0|         0|         2| 0.4|0.4091|0.76|    0.194|     0|         1|  1|\n",
            "|     32|2011-01-02|     1|  0|   1|  8|      0|      0|         0|         3| 0.4|0.4091|0.71|   0.2239|     0|         8|  8|\n",
            "|     33|2011-01-02|     1|  0|   1|  9|      0|      0|         0|         2|0.38|0.3939|0.76|   0.2239|     1|        19| 20|\n",
            "|     34|2011-01-02|     1|  0|   1| 10|      0|      0|         0|         2|0.36|0.3485|0.81|   0.2239|     7|        46| 53|\n",
            "|     35|2011-01-02|     1|  0|   1| 11|      0|      0|         0|         2|0.36|0.3333|0.71|   0.2537|    16|        54| 70|\n",
            "|     36|2011-01-02|     1|  0|   1| 12|      0|      0|         0|         2|0.36|0.3333|0.66|   0.2985|    20|        73| 93|\n",
            "|     37|2011-01-02|     1|  0|   1| 13|      0|      0|         0|         2|0.36|0.3485|0.66|   0.1343|    11|        64| 75|\n",
            "|     38|2011-01-02|     1|  0|   1| 14|      0|      0|         0|         3|0.36|0.3485|0.76|    0.194|     4|        55| 59|\n",
            "|     39|2011-01-02|     1|  0|   1| 15|      0|      0|         0|         3|0.34|0.3333|0.81|   0.1642|    19|        55| 74|\n",
            "|     40|2011-01-02|     1|  0|   1| 16|      0|      0|         0|         3|0.34|0.3333|0.71|   0.1642|     9|        67| 76|\n",
            "|     41|2011-01-02|     1|  0|   1| 17|      0|      0|         0|         1|0.34|0.3333|0.57|    0.194|     7|        58| 65|\n",
            "|     42|2011-01-02|     1|  0|   1| 18|      0|      0|         0|         2|0.36|0.3333|0.46|   0.3284|    10|        43| 53|\n",
            "|     43|2011-01-02|     1|  0|   1| 19|      0|      0|         0|         1|0.32|0.2879|0.42|   0.4478|     1|        29| 30|\n",
            "|     44|2011-01-02|     1|  0|   1| 20|      0|      0|         0|         1| 0.3|0.2727|0.39|   0.3582|     5|        17| 22|\n",
            "+-------+----------+------+---+----+---+-------+-------+----------+----------+----+------+----+---------+------+----------+---+\n",
            "only showing top 20 rows\n",
            "\n"
          ]
        }
      ]
    },
    {
      "cell_type": "markdown",
      "source": [
        "groupby and aggregate"
      ],
      "metadata": {
        "id": "fCqhO5tE4ZBq"
      }
    },
    {
      "cell_type": "code",
      "source": [
        "spark=SparkSession.builder.appName('groupby').getOrCreate()"
      ],
      "metadata": {
        "id": "CrL58kEC4KS2"
      },
      "execution_count": null,
      "outputs": []
    },
    {
      "cell_type": "code",
      "source": [
        "my_gr=spark.read.csv('hour (2).csv',header=True,inferSchema=True)"
      ],
      "metadata": {
        "id": "XfoXhGX-4YrN"
      },
      "execution_count": null,
      "outputs": []
    },
    {
      "cell_type": "code",
      "source": [
        "my_gr.show()"
      ],
      "metadata": {
        "colab": {
          "base_uri": "https://localhost:8080/"
        },
        "id": "qsOJPCz14YoL",
        "outputId": "1062f48b-aa55-4767-debb-aa7799bd9c2e"
      },
      "execution_count": null,
      "outputs": [
        {
          "output_type": "stream",
          "name": "stdout",
          "text": [
            "+-------+----------+------+---+----+---+-------+-------+----------+----------+----+------+----+---------+------+----------+---+\n",
            "|instant|    dteday|season| yr|mnth| hr|holiday|weekday|workingday|weathersit|temp| atemp| hum|windspeed|casual|registered|cnt|\n",
            "+-------+----------+------+---+----+---+-------+-------+----------+----------+----+------+----+---------+------+----------+---+\n",
            "|      1|2011-01-01|     1|  0|   1|  0|      0|      6|         0|         1|0.24|0.2879|0.81|      0.0|     3|        13| 16|\n",
            "|      2|2011-01-01|     1|  0|   1|  1|      0|      6|         0|         1|0.22|0.2727| 0.8|      0.0|     8|        32| 40|\n",
            "|      3|2011-01-01|     1|  0|   1|  2|      0|      6|         0|         1|0.22|0.2727| 0.8|      0.0|     5|        27| 32|\n",
            "|      4|2011-01-01|     1|  0|   1|  3|      0|      6|         0|         1|0.24|0.2879|0.75|      0.0|     3|        10| 13|\n",
            "|      5|2011-01-01|     1|  0|   1|  4|      0|      6|         0|         1|0.24|0.2879|0.75|      0.0|     0|         1|  1|\n",
            "|      6|2011-01-01|     1|  0|   1|  5|      0|      6|         0|         2|0.24|0.2576|0.75|   0.0896|     0|         1|  1|\n",
            "|      7|2011-01-01|     1|  0|   1|  6|      0|      6|         0|         1|0.22|0.2727| 0.8|      0.0|     2|         0|  2|\n",
            "|      8|2011-01-01|     1|  0|   1|  7|      0|      6|         0|         1| 0.2|0.2576|0.86|      0.0|     1|         2|  3|\n",
            "|      9|2011-01-01|     1|  0|   1|  8|      0|      6|         0|         1|0.24|0.2879|0.75|      0.0|     1|         7|  8|\n",
            "|     10|2011-01-01|     1|  0|   1|  9|      0|      6|         0|         1|0.32|0.3485|0.76|      0.0|     8|         6| 14|\n",
            "|     11|2011-01-01|     1|  0|   1| 10|      0|      6|         0|         1|0.38|0.3939|0.76|   0.2537|    12|        24| 36|\n",
            "|     12|2011-01-01|     1|  0|   1| 11|      0|      6|         0|         1|0.36|0.3333|0.81|   0.2836|    26|        30| 56|\n",
            "|     13|2011-01-01|     1|  0|   1| 12|      0|      6|         0|         1|0.42|0.4242|0.77|   0.2836|    29|        55| 84|\n",
            "|     14|2011-01-01|     1|  0|   1| 13|      0|      6|         0|         2|0.46|0.4545|0.72|   0.2985|    47|        47| 94|\n",
            "|     15|2011-01-01|     1|  0|   1| 14|      0|      6|         0|         2|0.46|0.4545|0.72|   0.2836|    35|        71|106|\n",
            "|     16|2011-01-01|     1|  0|   1| 15|      0|      6|         0|         2|0.44|0.4394|0.77|   0.2985|    40|        70|110|\n",
            "|     17|2011-01-01|     1|  0|   1| 16|      0|      6|         0|         2|0.42|0.4242|0.82|   0.2985|    41|        52| 93|\n",
            "|     18|2011-01-01|     1|  0|   1| 17|      0|      6|         0|         2|0.44|0.4394|0.82|   0.2836|    15|        52| 67|\n",
            "|     19|2011-01-01|     1|  0|   1| 18|      0|      6|         0|         3|0.42|0.4242|0.88|   0.2537|     9|        26| 35|\n",
            "|     20|2011-01-01|     1|  0|   1| 19|      0|      6|         0|         3|0.42|0.4242|0.88|   0.2537|     6|        31| 37|\n",
            "+-------+----------+------+---+----+---+-------+-------+----------+----------+----+------+----+---------+------+----------+---+\n",
            "only showing top 20 rows\n",
            "\n"
          ]
        }
      ]
    },
    {
      "cell_type": "code",
      "source": [
        "my_gr.printSchema()"
      ],
      "metadata": {
        "colab": {
          "base_uri": "https://localhost:8080/"
        },
        "id": "ghmFKrOL4YlJ",
        "outputId": "09b2397f-d927-4ff8-d5e3-e35d25292f7f"
      },
      "execution_count": null,
      "outputs": [
        {
          "output_type": "stream",
          "name": "stdout",
          "text": [
            "root\n",
            " |-- instant: integer (nullable = true)\n",
            " |-- dteday: date (nullable = true)\n",
            " |-- season: integer (nullable = true)\n",
            " |-- yr: integer (nullable = true)\n",
            " |-- mnth: integer (nullable = true)\n",
            " |-- hr: integer (nullable = true)\n",
            " |-- holiday: integer (nullable = true)\n",
            " |-- weekday: integer (nullable = true)\n",
            " |-- workingday: integer (nullable = true)\n",
            " |-- weathersit: integer (nullable = true)\n",
            " |-- temp: double (nullable = true)\n",
            " |-- atemp: double (nullable = true)\n",
            " |-- hum: double (nullable = true)\n",
            " |-- windspeed: double (nullable = true)\n",
            " |-- casual: integer (nullable = true)\n",
            " |-- registered: integer (nullable = true)\n",
            " |-- cnt: integer (nullable = true)\n",
            "\n"
          ]
        }
      ]
    },
    {
      "cell_type": "code",
      "source": [
        "### group\n",
        "my_gr.groupBy('yr').mean().show()"
      ],
      "metadata": {
        "colab": {
          "base_uri": "https://localhost:8080/"
        },
        "id": "3pkWrF1z5Ihq",
        "outputId": "6ed7c760-2226-421e-f50c-1c9f3b095ff0"
      },
      "execution_count": null,
      "outputs": [
        {
          "output_type": "stream",
          "name": "stdout",
          "text": [
            "+---+------------+------------------+-------+-----------------+------------------+--------------------+-----------------+------------------+------------------+------------------+-------------------+------------------+-------------------+-----------------+------------------+------------------+\n",
            "| yr|avg(instant)|       avg(season)|avg(yr)|        avg(mnth)|           avg(hr)|        avg(holiday)|     avg(weekday)|   avg(workingday)|   avg(weathersit)|         avg(temp)|         avg(atemp)|          avg(hum)|     avg(windspeed)|      avg(casual)|   avg(registered)|          avg(cnt)|\n",
            "+---+------------+------------------+-------+-----------------+------------------+--------------------+-----------------+------------------+------------------+------------------+-------------------+------------------+-------------------+-----------------+------------------+------------------+\n",
            "|  1|     13012.5|2.4898099381726584|    1.0|6.501946416304099| 11.52015113350126|0.029883215021754065|2.994733226471262|0.6817036867414701|1.4130982367758187|0.5048248225326163| 0.4824807190290828|0.6111930386993314| 0.1890339019922046|42.67975727043737|191.98660407602472| 234.6663613464621|\n",
            "|  0|      4323.0| 2.513591671486408|    0.0|6.573973395026027|11.573626373626373|0.027646038172353962|3.012724117987276|0.6837478311162521| 1.437593984962406|0.4890688259109236|0.46900045112781896|0.6434297281665681|0.19117226142277757|28.60057836899942|115.19386928860614|143.79444765760556|\n",
            "+---+------------+------------------+-------+-----------------+------------------+--------------------+-----------------+------------------+------------------+------------------+-------------------+------------------+-------------------+-----------------+------------------+------------------+\n",
            "\n"
          ]
        }
      ]
    },
    {
      "cell_type": "code",
      "source": [
        "## group by departments\n",
        "mygroup=my_gr.groupBy('weekday').max()"
      ],
      "metadata": {
        "id": "4JbqC2RP5Ifv"
      },
      "execution_count": null,
      "outputs": []
    },
    {
      "cell_type": "code",
      "source": [],
      "metadata": {
        "id": "Mkw6R8El5Ic4"
      },
      "execution_count": null,
      "outputs": []
    },
    {
      "cell_type": "code",
      "source": [
        "my_gr.agg({'temp':'sum'}).show()"
      ],
      "metadata": {
        "colab": {
          "base_uri": "https://localhost:8080/"
        },
        "id": "X_PjvAXoBsgG",
        "outputId": "aade1f7e-4ea9-4fba-92f5-a0cbecb20bee"
      },
      "execution_count": null,
      "outputs": [
        {
          "output_type": "stream",
          "name": "stdout",
          "text": [
            "+-----------------+\n",
            "|        sum(temp)|\n",
            "+-----------------+\n",
            "|8637.140000000005|\n",
            "+-----------------+\n",
            "\n"
          ]
        }
      ]
    },
    {
      "cell_type": "code",
      "source": [
        "mygroup.select('max(season)').show()"
      ],
      "metadata": {
        "colab": {
          "base_uri": "https://localhost:8080/"
        },
        "id": "ACioJpf1Bsbv",
        "outputId": "9cd05bb3-87bf-4f57-fb19-af36908622e9"
      },
      "execution_count": null,
      "outputs": [
        {
          "output_type": "stream",
          "name": "stdout",
          "text": [
            "+-----------+\n",
            "|max(season)|\n",
            "+-----------+\n",
            "|          4|\n",
            "|          4|\n",
            "|          4|\n",
            "|          4|\n",
            "|          4|\n",
            "|          4|\n",
            "|          4|\n",
            "+-----------+\n",
            "\n"
          ]
        }
      ]
    },
    {
      "cell_type": "code",
      "source": [
        "spark5=SparkSession.builder.appName('mlpractive').getOrCreate()"
      ],
      "metadata": {
        "id": "667QsGQ-BsYz"
      },
      "execution_count": null,
      "outputs": []
    },
    {
      "cell_type": "code",
      "source": [
        "dfnew=spark5.read.csv('practice.csv',header=True,inferSchema=True)"
      ],
      "metadata": {
        "id": "6l-4QOThgtTZ"
      },
      "execution_count": null,
      "outputs": []
    },
    {
      "cell_type": "code",
      "source": [
        "dfnew.show()"
      ],
      "metadata": {
        "colab": {
          "base_uri": "https://localhost:8080/"
        },
        "id": "UFKOsvjCg5DC",
        "outputId": "ec4c1703-bef4-474f-bd90-176bedd508cf"
      },
      "execution_count": null,
      "outputs": [
        {
          "output_type": "stream",
          "name": "stdout",
          "text": [
            "+---+------+------+------+\n",
            "|_c0|colum1|colum2|colum3|\n",
            "+---+------+------+------+\n",
            "|  a|    30|     2| 20000|\n",
            "|  b|    25|     3| 25000|\n",
            "|  c|    33|     7| 45000|\n",
            "|  d|    19|     1| 26500|\n",
            "|  e|    22|     3| 33000|\n",
            "|  f|    40|     8| 45000|\n",
            "|  g|    50|     9| 50000|\n",
            "|  h|    45|     9| 44000|\n",
            "+---+------+------+------+\n",
            "\n"
          ]
        }
      ]
    },
    {
      "cell_type": "code",
      "source": [
        "dfnew.printSchema()"
      ],
      "metadata": {
        "colab": {
          "base_uri": "https://localhost:8080/"
        },
        "id": "noevAkBChCVJ",
        "outputId": "1e24e984-8c09-4997-f21e-a807fc9ffcdc"
      },
      "execution_count": null,
      "outputs": [
        {
          "output_type": "stream",
          "name": "stdout",
          "text": [
            "root\n",
            " |-- _c0: string (nullable = true)\n",
            " |-- colum1: integer (nullable = true)\n",
            " |-- colum2: integer (nullable = true)\n",
            " |-- colum3: integer (nullable = true)\n",
            "\n"
          ]
        }
      ]
    },
    {
      "cell_type": "code",
      "source": [
        "dfnew.columns"
      ],
      "metadata": {
        "colab": {
          "base_uri": "https://localhost:8080/"
        },
        "id": "_fHbE-b6hQpx",
        "outputId": "d98fd896-63ae-4c0e-dbc8-85570fb02741"
      },
      "execution_count": null,
      "outputs": [
        {
          "output_type": "execute_result",
          "data": {
            "text/plain": [
              "['_c0', 'colum1', 'colum2', 'colum3']"
            ]
          },
          "metadata": {},
          "execution_count": 81
        }
      ]
    },
    {
      "cell_type": "code",
      "source": [
        "#[colum1,colum2]---->new independent features"
      ],
      "metadata": {
        "id": "kZgw1B-rhX-J"
      },
      "execution_count": null,
      "outputs": []
    },
    {
      "cell_type": "code",
      "source": [
        "from pyspark.ml.feature import VectorAssembler\n",
        "assembler=VectorAssembler(inputCols=['colum1','colum2'],\n",
        "                          outputCol='Independentfeatures')\n"
      ],
      "metadata": {
        "id": "fkaszNHYhxjk"
      },
      "execution_count": null,
      "outputs": []
    },
    {
      "cell_type": "code",
      "source": [
        "output=assembler.transform(dfnew)"
      ],
      "metadata": {
        "id": "UnlSK3R1hxgn"
      },
      "execution_count": null,
      "outputs": []
    },
    {
      "cell_type": "code",
      "source": [
        "output.show()"
      ],
      "metadata": {
        "colab": {
          "base_uri": "https://localhost:8080/"
        },
        "id": "dfX64r_shxcS",
        "outputId": "45c7cb0b-ba23-4b8a-8d1e-aaae8eaf95a1"
      },
      "execution_count": null,
      "outputs": [
        {
          "output_type": "stream",
          "name": "stdout",
          "text": [
            "+---+------+------+------+-------------------+\n",
            "|_c0|colum1|colum2|colum3|Independentfeatures|\n",
            "+---+------+------+------+-------------------+\n",
            "|  a|    30|     2| 20000|         [30.0,2.0]|\n",
            "|  b|    25|     3| 25000|         [25.0,3.0]|\n",
            "|  c|    33|     7| 45000|         [33.0,7.0]|\n",
            "|  d|    19|     1| 26500|         [19.0,1.0]|\n",
            "|  e|    22|     3| 33000|         [22.0,3.0]|\n",
            "|  f|    40|     8| 45000|         [40.0,8.0]|\n",
            "|  g|    50|     9| 50000|         [50.0,9.0]|\n",
            "|  h|    45|     9| 44000|         [45.0,9.0]|\n",
            "+---+------+------+------+-------------------+\n",
            "\n"
          ]
        }
      ]
    },
    {
      "cell_type": "code",
      "source": [
        "output.columns"
      ],
      "metadata": {
        "colab": {
          "base_uri": "https://localhost:8080/"
        },
        "id": "hm2iGGF9hxY5",
        "outputId": "66285697-a27b-41e5-8b3a-fb5131219dca"
      },
      "execution_count": null,
      "outputs": [
        {
          "output_type": "execute_result",
          "data": {
            "text/plain": [
              "['_c0', 'colum1', 'colum2', 'colum3', 'Independentfeatures']"
            ]
          },
          "metadata": {},
          "execution_count": 90
        }
      ]
    },
    {
      "cell_type": "code",
      "source": [
        "final_data=output.select('Independentfeatures','colum3')"
      ],
      "metadata": {
        "id": "Z2kt1cmAhxWA"
      },
      "execution_count": null,
      "outputs": []
    },
    {
      "cell_type": "code",
      "source": [
        "final_data.show()"
      ],
      "metadata": {
        "colab": {
          "base_uri": "https://localhost:8080/"
        },
        "id": "C6hVlKHjhxQt",
        "outputId": "f97d6567-51df-4e5d-b18a-9c709c6d31be"
      },
      "execution_count": null,
      "outputs": [
        {
          "output_type": "stream",
          "name": "stdout",
          "text": [
            "+-------------------+------+\n",
            "|Independentfeatures|colum3|\n",
            "+-------------------+------+\n",
            "|         [30.0,2.0]| 20000|\n",
            "|         [25.0,3.0]| 25000|\n",
            "|         [33.0,7.0]| 45000|\n",
            "|         [19.0,1.0]| 26500|\n",
            "|         [22.0,3.0]| 33000|\n",
            "|         [40.0,8.0]| 45000|\n",
            "|         [50.0,9.0]| 50000|\n",
            "|         [45.0,9.0]| 44000|\n",
            "+-------------------+------+\n",
            "\n"
          ]
        }
      ]
    },
    {
      "cell_type": "code",
      "source": [
        "from pyspark.ml.regression import LinearRegression\n",
        "train_data,test_data=final_data.randomSplit([0.75,0.25])\n",
        "regressor=LinearRegression(featuresCol='Independentfeatures',labelCol='colum3')\n",
        "model=regressor.fit(final_data)"
      ],
      "metadata": {
        "id": "KInMN8z2jHAJ"
      },
      "execution_count": null,
      "outputs": []
    },
    {
      "cell_type": "code",
      "source": [
        "##coefficints\n",
        "model.coefficients"
      ],
      "metadata": {
        "colab": {
          "base_uri": "https://localhost:8080/"
        },
        "id": "vVIsetFqjJrq",
        "outputId": "ede3487f-d7cb-40a5-93f5-47a19f8acbed"
      },
      "execution_count": null,
      "outputs": [
        {
          "output_type": "execute_result",
          "data": {
            "text/plain": [
              "DenseVector([-508.7675, 4761.022])"
            ]
          },
          "metadata": {},
          "execution_count": 100
        }
      ]
    },
    {
      "cell_type": "code",
      "source": [
        "pred_results=model.evaluate(test_data)"
      ],
      "metadata": {
        "id": "1mLU58snjJou"
      },
      "execution_count": null,
      "outputs": []
    },
    {
      "cell_type": "code",
      "source": [
        "pred_results.predictions.show()"
      ],
      "metadata": {
        "colab": {
          "base_uri": "https://localhost:8080/"
        },
        "id": "3ta6AcvvjJlo",
        "outputId": "f3ae4c24-ae1a-46d3-d458-84ba3945977a"
      },
      "execution_count": null,
      "outputs": [
        {
          "output_type": "stream",
          "name": "stdout",
          "text": [
            "+-------------------+------+-----------------+\n",
            "|Independentfeatures|colum3|       prediction|\n",
            "+-------------------+------+-----------------+\n",
            "|         [40.0,8.0]| 45000|45593.93787575149|\n",
            "+-------------------+------+-----------------+\n",
            "\n"
          ]
        }
      ]
    },
    {
      "cell_type": "code",
      "source": [
        "pred_results.meanAbsoluteError"
      ],
      "metadata": {
        "colab": {
          "base_uri": "https://localhost:8080/"
        },
        "id": "QmcC0lsojJik",
        "outputId": "9f6636e2-f4c5-469b-8555-7f5fa7025d76"
      },
      "execution_count": null,
      "outputs": [
        {
          "output_type": "execute_result",
          "data": {
            "text/plain": [
              "593.9378757514933"
            ]
          },
          "metadata": {},
          "execution_count": 108
        }
      ]
    },
    {
      "cell_type": "code",
      "source": [
        "from pyspark.sql import SparkSession"
      ],
      "metadata": {
        "id": "2TTLk9CCJVvv"
      },
      "execution_count": null,
      "outputs": []
    },
    {
      "cell_type": "code",
      "source": [
        "spark5=SparkSession.builder.appName('mltips').getOrCreate()"
      ],
      "metadata": {
        "id": "nDPTdyDdjJdz"
      },
      "execution_count": null,
      "outputs": []
    },
    {
      "cell_type": "code",
      "source": [
        "!pip install requests"
      ],
      "metadata": {
        "colab": {
          "base_uri": "https://localhost:8080/"
        },
        "id": "qCAOZKeqrMYT",
        "outputId": "f2eb3eac-9926-4c0c-b8e3-48a3b5c7f6cf"
      },
      "execution_count": null,
      "outputs": [
        {
          "output_type": "stream",
          "name": "stdout",
          "text": [
            "Requirement already satisfied: requests in /usr/local/lib/python3.10/dist-packages (2.31.0)\n",
            "Requirement already satisfied: charset-normalizer<4,>=2 in /usr/local/lib/python3.10/dist-packages (from requests) (3.3.2)\n",
            "Requirement already satisfied: idna<4,>=2.5 in /usr/local/lib/python3.10/dist-packages (from requests) (3.6)\n",
            "Requirement already satisfied: urllib3<3,>=1.21.1 in /usr/local/lib/python3.10/dist-packages (from requests) (2.0.7)\n",
            "Requirement already satisfied: certifi>=2017.4.17 in /usr/local/lib/python3.10/dist-packages (from requests) (2024.2.2)\n"
          ]
        }
      ]
    },
    {
      "cell_type": "code",
      "source": [
        "import requests\n",
        "url='https://github.com/krishnaik06/Pyspark-With-Python/blob/main/tips.csv'"
      ],
      "metadata": {
        "id": "7_NQUbK5rQCJ"
      },
      "execution_count": null,
      "outputs": []
    },
    {
      "cell_type": "code",
      "source": [
        "response=requests.get(url)"
      ],
      "metadata": {
        "id": "uqgZH6H7riCx"
      },
      "execution_count": null,
      "outputs": []
    },
    {
      "cell_type": "code",
      "source": [],
      "metadata": {
        "id": "seFhjvveriBF"
      },
      "execution_count": null,
      "outputs": []
    },
    {
      "cell_type": "code",
      "source": [
        "with open('tips.csv','wb') as f:\n",
        "  f.write(response.content)"
      ],
      "metadata": {
        "id": "GztJRUA-rVGg"
      },
      "execution_count": null,
      "outputs": []
    },
    {
      "cell_type": "code",
      "source": [
        "!ls"
      ],
      "metadata": {
        "colab": {
          "base_uri": "https://localhost:8080/"
        },
        "id": "BT7CLidXr7c_",
        "outputId": "72f39c9e-40d7-4e20-8f9b-9f7ff87f97a7"
      },
      "execution_count": null,
      "outputs": [
        {
          "output_type": "stream",
          "name": "stdout",
          "text": [
            "'hour (2).csv'\t practice.csv   salary2.xlsx   sample_data   tips.csv\n"
          ]
        }
      ]
    },
    {
      "cell_type": "code",
      "source": [
        "df2=spark5.read.csv('tips.csv',header=True,inferSchema=True)"
      ],
      "metadata": {
        "id": "C8aoxdAwjJbA"
      },
      "execution_count": null,
      "outputs": []
    },
    {
      "cell_type": "code",
      "source": [
        "df2.printSchema()"
      ],
      "metadata": {
        "colab": {
          "base_uri": "https://localhost:8080/"
        },
        "id": "6Qwfe5VAjJYb",
        "outputId": "30a4a943-9519-4ce5-87af-72f451908f8f"
      },
      "execution_count": null,
      "outputs": [
        {
          "output_type": "stream",
          "name": "stdout",
          "text": [
            "root\n",
            " |-- total_bill: double (nullable = true)\n",
            " |-- tip: double (nullable = true)\n",
            " |-- sex: string (nullable = true)\n",
            " |-- smoker: string (nullable = true)\n",
            " |-- day: string (nullable = true)\n",
            " |-- time: string (nullable = true)\n",
            " |-- size: integer (nullable = true)\n",
            "\n"
          ]
        }
      ]
    },
    {
      "cell_type": "code",
      "source": [
        "df2.printSchema()"
      ],
      "metadata": {
        "colab": {
          "base_uri": "https://localhost:8080/"
        },
        "id": "RaJ-0TQFsKhs",
        "outputId": "883e9214-4492-4aa4-e260-ce535141e1c4"
      },
      "execution_count": null,
      "outputs": [
        {
          "output_type": "stream",
          "name": "stdout",
          "text": [
            "root\n",
            " |-- total_bill: double (nullable = true)\n",
            " |-- tip: double (nullable = true)\n",
            " |-- sex: string (nullable = true)\n",
            " |-- smoker: string (nullable = true)\n",
            " |-- day: string (nullable = true)\n",
            " |-- time: string (nullable = true)\n",
            " |-- size: integer (nullable = true)\n",
            "\n"
          ]
        }
      ]
    },
    {
      "cell_type": "code",
      "source": [
        "df2.columns"
      ],
      "metadata": {
        "colab": {
          "base_uri": "https://localhost:8080/"
        },
        "id": "pwGAuIgcsoV2",
        "outputId": "24cdaf1a-eadd-41aa-d8fd-a4b6fb89eb15"
      },
      "execution_count": null,
      "outputs": [
        {
          "output_type": "execute_result",
          "data": {
            "text/plain": [
              "['total_bill', 'tip', 'sex', 'smoker', 'day', 'time', 'size']"
            ]
          },
          "metadata": {},
          "execution_count": 8
        }
      ]
    },
    {
      "cell_type": "code",
      "source": [
        "### handling categorical features\n",
        "from pyspark.ml.feature import  StringIndexer"
      ],
      "metadata": {
        "id": "AV5wL7SAsvnn"
      },
      "execution_count": null,
      "outputs": []
    },
    {
      "cell_type": "code",
      "source": [
        "indexer=StringIndexer(\n",
        "    inputCol='sex',\n",
        "    outputCol='sex_indexed')\n",
        "df_r=indexer.fit(df2).transform(df2)\n",
        "df_r.show()"
      ],
      "metadata": {
        "colab": {
          "base_uri": "https://localhost:8080/"
        },
        "id": "Ib7QLrGBt1zV",
        "outputId": "19b52449-8ffe-4933-f7c6-e5dfbcf74e47"
      },
      "execution_count": null,
      "outputs": [
        {
          "output_type": "stream",
          "name": "stdout",
          "text": [
            "+----------+----+------+------+---+------+----+-----------+\n",
            "|total_bill| tip|   sex|smoker|day|  time|size|sex_indexed|\n",
            "+----------+----+------+------+---+------+----+-----------+\n",
            "|     16.99|1.01|Female|    No|Sun|Dinner|   2|        1.0|\n",
            "|     10.34|1.66|  Male|    No|Sun|Dinner|   3|        0.0|\n",
            "|     21.01| 3.5|  Male|    No|Sun|Dinner|   3|        0.0|\n",
            "|     23.68|3.31|  Male|    No|Sun|Dinner|   2|        0.0|\n",
            "|     24.59|3.61|Female|    No|Sun|Dinner|   4|        1.0|\n",
            "|     25.29|4.71|  Male|    No|Sun|Dinner|   4|        0.0|\n",
            "|      8.77| 2.0|  Male|    No|Sun|Dinner|   2|        0.0|\n",
            "|     26.88|3.12|  Male|    No|Sun|Dinner|   4|        0.0|\n",
            "|     15.04|1.96|  Male|    No|Sun|Dinner|   2|        0.0|\n",
            "|     14.78|3.23|  Male|    No|Sun|Dinner|   2|        0.0|\n",
            "|     10.27|1.71|  Male|    No|Sun|Dinner|   2|        0.0|\n",
            "|     35.26| 5.0|Female|    No|Sun|Dinner|   4|        1.0|\n",
            "|     15.42|1.57|  Male|    No|Sun|Dinner|   2|        0.0|\n",
            "|     18.43| 3.0|  Male|    No|Sun|Dinner|   4|        0.0|\n",
            "|     14.83|3.02|Female|    No|Sun|Dinner|   2|        1.0|\n",
            "|     21.58|3.92|  Male|    No|Sun|Dinner|   2|        0.0|\n",
            "|     10.33|1.67|Female|    No|Sun|Dinner|   3|        1.0|\n",
            "|     16.29|3.71|  Male|    No|Sun|Dinner|   3|        0.0|\n",
            "|     16.97| 3.5|Female|    No|Sun|Dinner|   3|        1.0|\n",
            "|     20.65|3.35|  Male|    No|Sat|Dinner|   3|        0.0|\n",
            "+----------+----+------+------+---+------+----+-----------+\n",
            "only showing top 20 rows\n",
            "\n"
          ]
        }
      ]
    },
    {
      "cell_type": "code",
      "source": [
        "# when multiple columns it should be inputCols plural\n",
        "indexer=StringIndexer(\n",
        "    inputCols=['smoker','day','time','sex'],outputCols=['smoker_indexed','day_indexed','time_indexed','sex_indexed']\n",
        "    )\n",
        "df_r=indexer.fit(df2).transform(df2)\n",
        "df_r.show()"
      ],
      "metadata": {
        "colab": {
          "base_uri": "https://localhost:8080/"
        },
        "id": "jLYSzD6luVbl",
        "outputId": "0223f41e-4442-4229-9fac-c88ea41ce7a2"
      },
      "execution_count": null,
      "outputs": [
        {
          "output_type": "stream",
          "name": "stdout",
          "text": [
            "+----------+----+------+------+---+------+----+--------------+-----------+------------+-----------+\n",
            "|total_bill| tip|   sex|smoker|day|  time|size|smoker_indexed|day_indexed|time_indexed|sex_indexed|\n",
            "+----------+----+------+------+---+------+----+--------------+-----------+------------+-----------+\n",
            "|     16.99|1.01|Female|    No|Sun|Dinner|   2|           0.0|        1.0|         0.0|        1.0|\n",
            "|     10.34|1.66|  Male|    No|Sun|Dinner|   3|           0.0|        1.0|         0.0|        0.0|\n",
            "|     21.01| 3.5|  Male|    No|Sun|Dinner|   3|           0.0|        1.0|         0.0|        0.0|\n",
            "|     23.68|3.31|  Male|    No|Sun|Dinner|   2|           0.0|        1.0|         0.0|        0.0|\n",
            "|     24.59|3.61|Female|    No|Sun|Dinner|   4|           0.0|        1.0|         0.0|        1.0|\n",
            "|     25.29|4.71|  Male|    No|Sun|Dinner|   4|           0.0|        1.0|         0.0|        0.0|\n",
            "|      8.77| 2.0|  Male|    No|Sun|Dinner|   2|           0.0|        1.0|         0.0|        0.0|\n",
            "|     26.88|3.12|  Male|    No|Sun|Dinner|   4|           0.0|        1.0|         0.0|        0.0|\n",
            "|     15.04|1.96|  Male|    No|Sun|Dinner|   2|           0.0|        1.0|         0.0|        0.0|\n",
            "|     14.78|3.23|  Male|    No|Sun|Dinner|   2|           0.0|        1.0|         0.0|        0.0|\n",
            "|     10.27|1.71|  Male|    No|Sun|Dinner|   2|           0.0|        1.0|         0.0|        0.0|\n",
            "|     35.26| 5.0|Female|    No|Sun|Dinner|   4|           0.0|        1.0|         0.0|        1.0|\n",
            "|     15.42|1.57|  Male|    No|Sun|Dinner|   2|           0.0|        1.0|         0.0|        0.0|\n",
            "|     18.43| 3.0|  Male|    No|Sun|Dinner|   4|           0.0|        1.0|         0.0|        0.0|\n",
            "|     14.83|3.02|Female|    No|Sun|Dinner|   2|           0.0|        1.0|         0.0|        1.0|\n",
            "|     21.58|3.92|  Male|    No|Sun|Dinner|   2|           0.0|        1.0|         0.0|        0.0|\n",
            "|     10.33|1.67|Female|    No|Sun|Dinner|   3|           0.0|        1.0|         0.0|        1.0|\n",
            "|     16.29|3.71|  Male|    No|Sun|Dinner|   3|           0.0|        1.0|         0.0|        0.0|\n",
            "|     16.97| 3.5|Female|    No|Sun|Dinner|   3|           0.0|        1.0|         0.0|        1.0|\n",
            "|     20.65|3.35|  Male|    No|Sat|Dinner|   3|           0.0|        0.0|         0.0|        0.0|\n",
            "+----------+----+------+------+---+------+----+--------------+-----------+------------+-----------+\n",
            "only showing top 20 rows\n",
            "\n"
          ]
        }
      ]
    },
    {
      "cell_type": "code",
      "source": [
        "from pyspark.ml.feature import VectorAssembler"
      ],
      "metadata": {
        "id": "mXx6uoBdvH4T"
      },
      "execution_count": null,
      "outputs": []
    },
    {
      "cell_type": "code",
      "source": [
        "df2.columns"
      ],
      "metadata": {
        "colab": {
          "base_uri": "https://localhost:8080/"
        },
        "id": "g3iUyEI1vUnx",
        "outputId": "05e9f550-5083-49a5-c4b2-98eb1294eefb"
      },
      "execution_count": null,
      "outputs": [
        {
          "output_type": "execute_result",
          "data": {
            "text/plain": [
              "['total_bill', 'tip', 'sex', 'smoker', 'day', 'time', 'size']"
            ]
          },
          "metadata": {},
          "execution_count": 26
        }
      ]
    },
    {
      "cell_type": "code",
      "source": [
        "featureassembler=VectorAssembler(inputCols=['tip','size','sex_indexed','smoker_indexed','day_indexed'],\n",
        "                outputCol='Independent Features')"
      ],
      "metadata": {
        "id": "GMq_hYK4vL99"
      },
      "execution_count": null,
      "outputs": []
    },
    {
      "cell_type": "code",
      "source": [
        "output=featureassembler.transform(df_r)"
      ],
      "metadata": {
        "id": "ds6WTWfcvtzi"
      },
      "execution_count": null,
      "outputs": []
    },
    {
      "cell_type": "code",
      "source": [
        "output.show()"
      ],
      "metadata": {
        "colab": {
          "base_uri": "https://localhost:8080/"
        },
        "id": "gl2w41mowH99",
        "outputId": "b8594cc9-f276-40f2-ef8e-24dc9eb3adbd"
      },
      "execution_count": null,
      "outputs": [
        {
          "output_type": "stream",
          "name": "stdout",
          "text": [
            "+----------+----+------+------+---+------+----+--------------+-----------+------------+-----------+--------------------+\n",
            "|total_bill| tip|   sex|smoker|day|  time|size|smoker_indexed|day_indexed|time_indexed|sex_indexed|Independent Features|\n",
            "+----------+----+------+------+---+------+----+--------------+-----------+------------+-----------+--------------------+\n",
            "|     16.99|1.01|Female|    No|Sun|Dinner|   2|           0.0|        1.0|         0.0|        1.0|[1.01,2.0,1.0,0.0...|\n",
            "|     10.34|1.66|  Male|    No|Sun|Dinner|   3|           0.0|        1.0|         0.0|        0.0|[1.66,3.0,0.0,0.0...|\n",
            "|     21.01| 3.5|  Male|    No|Sun|Dinner|   3|           0.0|        1.0|         0.0|        0.0|[3.5,3.0,0.0,0.0,...|\n",
            "|     23.68|3.31|  Male|    No|Sun|Dinner|   2|           0.0|        1.0|         0.0|        0.0|[3.31,2.0,0.0,0.0...|\n",
            "|     24.59|3.61|Female|    No|Sun|Dinner|   4|           0.0|        1.0|         0.0|        1.0|[3.61,4.0,1.0,0.0...|\n",
            "|     25.29|4.71|  Male|    No|Sun|Dinner|   4|           0.0|        1.0|         0.0|        0.0|[4.71,4.0,0.0,0.0...|\n",
            "|      8.77| 2.0|  Male|    No|Sun|Dinner|   2|           0.0|        1.0|         0.0|        0.0|[2.0,2.0,0.0,0.0,...|\n",
            "|     26.88|3.12|  Male|    No|Sun|Dinner|   4|           0.0|        1.0|         0.0|        0.0|[3.12,4.0,0.0,0.0...|\n",
            "|     15.04|1.96|  Male|    No|Sun|Dinner|   2|           0.0|        1.0|         0.0|        0.0|[1.96,2.0,0.0,0.0...|\n",
            "|     14.78|3.23|  Male|    No|Sun|Dinner|   2|           0.0|        1.0|         0.0|        0.0|[3.23,2.0,0.0,0.0...|\n",
            "|     10.27|1.71|  Male|    No|Sun|Dinner|   2|           0.0|        1.0|         0.0|        0.0|[1.71,2.0,0.0,0.0...|\n",
            "|     35.26| 5.0|Female|    No|Sun|Dinner|   4|           0.0|        1.0|         0.0|        1.0|[5.0,4.0,1.0,0.0,...|\n",
            "|     15.42|1.57|  Male|    No|Sun|Dinner|   2|           0.0|        1.0|         0.0|        0.0|[1.57,2.0,0.0,0.0...|\n",
            "|     18.43| 3.0|  Male|    No|Sun|Dinner|   4|           0.0|        1.0|         0.0|        0.0|[3.0,4.0,0.0,0.0,...|\n",
            "|     14.83|3.02|Female|    No|Sun|Dinner|   2|           0.0|        1.0|         0.0|        1.0|[3.02,2.0,1.0,0.0...|\n",
            "|     21.58|3.92|  Male|    No|Sun|Dinner|   2|           0.0|        1.0|         0.0|        0.0|[3.92,2.0,0.0,0.0...|\n",
            "|     10.33|1.67|Female|    No|Sun|Dinner|   3|           0.0|        1.0|         0.0|        1.0|[1.67,3.0,1.0,0.0...|\n",
            "|     16.29|3.71|  Male|    No|Sun|Dinner|   3|           0.0|        1.0|         0.0|        0.0|[3.71,3.0,0.0,0.0...|\n",
            "|     16.97| 3.5|Female|    No|Sun|Dinner|   3|           0.0|        1.0|         0.0|        1.0|[3.5,3.0,1.0,0.0,...|\n",
            "|     20.65|3.35|  Male|    No|Sat|Dinner|   3|           0.0|        0.0|         0.0|        0.0|(5,[0,1],[3.35,3.0])|\n",
            "+----------+----+------+------+---+------+----+--------------+-----------+------------+-----------+--------------------+\n",
            "only showing top 20 rows\n",
            "\n"
          ]
        }
      ]
    },
    {
      "cell_type": "code",
      "source": [
        "output.select('Independent Features')"
      ],
      "metadata": {
        "colab": {
          "base_uri": "https://localhost:8080/"
        },
        "id": "RkJ2kOmWwH3i",
        "outputId": "50bee43e-2696-4a73-a5a6-b7b2e5168e72"
      },
      "execution_count": null,
      "outputs": [
        {
          "output_type": "stream",
          "name": "stderr",
          "text": [
            "Exception ignored in: <function JavaWrapper.__del__ at 0x7c5edaa0aa70>\n",
            "Traceback (most recent call last):\n",
            "  File \"/usr/local/lib/python3.10/dist-packages/pyspark/ml/wrapper.py\", line 53, in __del__\n",
            "    if SparkContext._active_spark_context and self._java_obj is not None:\n",
            "AttributeError: 'VectorAssembler' object has no attribute '_java_obj'\n"
          ]
        },
        {
          "output_type": "execute_result",
          "data": {
            "text/plain": [
              "DataFrame[Independent Features: vector]"
            ]
          },
          "metadata": {},
          "execution_count": 35
        }
      ]
    },
    {
      "cell_type": "code",
      "source": [
        "finalized_data=output.select(['Independent Features','total_bill'])"
      ],
      "metadata": {
        "id": "fvhp1VJUwHzc"
      },
      "execution_count": null,
      "outputs": []
    },
    {
      "cell_type": "code",
      "source": [
        "finalized_data.show() # will show just two columns for out model"
      ],
      "metadata": {
        "colab": {
          "base_uri": "https://localhost:8080/"
        },
        "id": "cgwrb7NfwHpr",
        "outputId": "52761952-ee7a-4a6d-deb2-ee5ed11cada4"
      },
      "execution_count": null,
      "outputs": [
        {
          "output_type": "stream",
          "name": "stdout",
          "text": [
            "+--------------------+----------+\n",
            "|Independent Features|total_bill|\n",
            "+--------------------+----------+\n",
            "|[1.01,2.0,1.0,0.0...|     16.99|\n",
            "|[1.66,3.0,0.0,0.0...|     10.34|\n",
            "|[3.5,3.0,0.0,0.0,...|     21.01|\n",
            "|[3.31,2.0,0.0,0.0...|     23.68|\n",
            "|[3.61,4.0,1.0,0.0...|     24.59|\n",
            "|[4.71,4.0,0.0,0.0...|     25.29|\n",
            "|[2.0,2.0,0.0,0.0,...|      8.77|\n",
            "|[3.12,4.0,0.0,0.0...|     26.88|\n",
            "|[1.96,2.0,0.0,0.0...|     15.04|\n",
            "|[3.23,2.0,0.0,0.0...|     14.78|\n",
            "|[1.71,2.0,0.0,0.0...|     10.27|\n",
            "|[5.0,4.0,1.0,0.0,...|     35.26|\n",
            "|[1.57,2.0,0.0,0.0...|     15.42|\n",
            "|[3.0,4.0,0.0,0.0,...|     18.43|\n",
            "|[3.02,2.0,1.0,0.0...|     14.83|\n",
            "|[3.92,2.0,0.0,0.0...|     21.58|\n",
            "|[1.67,3.0,1.0,0.0...|     10.33|\n",
            "|[3.71,3.0,0.0,0.0...|     16.29|\n",
            "|[3.5,3.0,1.0,0.0,...|     16.97|\n",
            "|(5,[0,1],[3.35,3.0])|     20.65|\n",
            "+--------------------+----------+\n",
            "only showing top 20 rows\n",
            "\n"
          ]
        }
      ]
    },
    {
      "cell_type": "code",
      "source": [
        "from pyspark.ml.regression import LinearRegression  #traintest split\n",
        "train_data,test_data=finalized_data.randomSplit([0.75,0.25])\n",
        "regressor=LinearRegression(featuresCol='Independent Features',labelCol='total_bill')\n",
        "regressor=regressor.fit(train_data)\n"
      ],
      "metadata": {
        "id": "gf-M9Y4gwe1T"
      },
      "execution_count": null,
      "outputs": []
    },
    {
      "cell_type": "code",
      "source": [
        "regressor.coefficients"
      ],
      "metadata": {
        "colab": {
          "base_uri": "https://localhost:8080/"
        },
        "id": "bM-5DmgBwey3",
        "outputId": "9f8e8bca-2168-4958-e25f-57d0f871ad0b"
      },
      "execution_count": null,
      "outputs": [
        {
          "output_type": "execute_result",
          "data": {
            "text/plain": [
              "DenseVector([2.863, 3.7662, -0.8398, 2.2755, -0.7913])"
            ]
          },
          "metadata": {},
          "execution_count": 45
        }
      ]
    },
    {
      "cell_type": "code",
      "source": [
        "regressor.intercept"
      ],
      "metadata": {
        "colab": {
          "base_uri": "https://localhost:8080/"
        },
        "id": "Mg9CkX_Uwewb",
        "outputId": "8652a9e1-e2ea-4550-d4c7-4c1b19694e4d"
      },
      "execution_count": null,
      "outputs": [
        {
          "output_type": "execute_result",
          "data": {
            "text/plain": [
              "1.869474427130372"
            ]
          },
          "metadata": {},
          "execution_count": 46
        }
      ]
    },
    {
      "cell_type": "code",
      "source": [
        "#predictions\n",
        "pred_results=regressor.evaluate(test_data)"
      ],
      "metadata": {
        "id": "d9PRN_Uywetz"
      },
      "execution_count": null,
      "outputs": []
    },
    {
      "cell_type": "code",
      "source": [
        "#myfinal comparisons\n",
        "pred_results.predictions.show()"
      ],
      "metadata": {
        "colab": {
          "base_uri": "https://localhost:8080/"
        },
        "id": "G2kYCdM2werY",
        "outputId": "2150a288-bc18-4dcc-ca8f-33898cecd2e5"
      },
      "execution_count": null,
      "outputs": [
        {
          "output_type": "stream",
          "name": "stdout",
          "text": [
            "+--------------------+----------+------------------+\n",
            "|Independent Features|total_bill|        prediction|\n",
            "+--------------------+----------+------------------+\n",
            "|(5,[0,1],[1.45,2.0])|      9.55|13.553186119302795|\n",
            "|(5,[0,1],[2.34,4.0])|     17.81|23.633601882973466|\n",
            "| (5,[0,1],[3.0,2.0])|      14.0|17.990880207120135|\n",
            "| (5,[0,1],[3.0,4.0])|     20.45| 25.52320065585053|\n",
            "|(5,[0,1],[3.18,2.0])|     19.82|18.506225326995697|\n",
            "|(5,[0,1],[3.35,3.0])|     20.65|22.759100386798924|\n",
            "|[1.0,1.0,1.0,0.0,...|      7.25| 7.658911560948889|\n",
            "|[1.0,2.0,1.0,1.0,...|      5.75|11.326782309467673|\n",
            "|[1.1,2.0,1.0,1.0,...|      12.9|13.986888561829085|\n",
            "|[1.25,2.0,1.0,0.0...|      8.51|10.558293290928301|\n",
            "|[1.36,3.0,1.0,0.0...|     18.64|14.639386644106342|\n",
            "|[1.5,2.0,0.0,0.0,...|     19.08|12.113801936166386|\n",
            "|[1.5,2.0,0.0,1.0,...|     11.59|15.971851473630139|\n",
            "|[1.5,2.0,1.0,0.0,...|     10.65|11.274050401866582|\n",
            "|[1.5,2.0,1.0,0.0,...|     11.17|11.274050401866582|\n",
            "|[1.56,2.0,0.0,0.0...|      9.94|13.076851445453604|\n",
            "|[1.57,2.0,0.0,0.0...|     15.42|13.105481729891137|\n",
            "|[1.58,2.0,0.0,1.0...|     13.42|13.827090341144286|\n",
            "|[1.63,2.0,1.0,0.0...|     11.87|11.646244099554487|\n",
            "|[1.64,2.0,0.0,1.0...|     15.36|16.372675455755573|\n",
            "+--------------------+----------+------------------+\n",
            "only showing top 20 rows\n",
            "\n"
          ]
        }
      ]
    },
    {
      "cell_type": "code",
      "source": [
        "pred_results.r2,pred_results.meanAbsoluteError,pred_results.meanSquaredError"
      ],
      "metadata": {
        "colab": {
          "base_uri": "https://localhost:8080/"
        },
        "id": "D2gkS205wepG",
        "outputId": "dd84e439-8df4-4f3e-fbb8-2319b22399df"
      },
      "execution_count": null,
      "outputs": [
        {
          "output_type": "execute_result",
          "data": {
            "text/plain": [
              "(0.6674910201352298, 3.4352757132757548, 24.054500525644364)"
            ]
          },
          "metadata": {},
          "execution_count": 49
        }
      ]
    },
    {
      "cell_type": "code",
      "source": [],
      "metadata": {
        "id": "zJUDS_NNwemA"
      },
      "execution_count": null,
      "outputs": []
    }
  ]
}